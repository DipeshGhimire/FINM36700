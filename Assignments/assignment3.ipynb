{
 "cells": [
  {
   "cell_type": "markdown",
   "id": "344ec633",
   "metadata": {},
   "source": [
    "## Importing Packages and Dataset"
   ]
  },
  {
   "cell_type": "code",
   "execution_count": 39,
   "id": "f37aefa1",
   "metadata": {},
   "outputs": [],
   "source": [
    "import numpy as np\n",
    "\n",
    "import pandas as pd\n",
    "\n",
    "from scipy.stats import norm\n",
    "\n",
    "from matplotlib import pyplot as plt"
   ]
  },
  {
   "cell_type": "code",
   "execution_count": 40,
   "id": "afcf9875",
   "metadata": {},
   "outputs": [],
   "source": [
    "data  = pd.read_excel('../barnstable_analysis_data.xlsx', sheet_name=1)"
   ]
  },
  {
   "cell_type": "markdown",
   "id": "eed105d4",
   "metadata": {},
   "source": [
    "## Excess Return, Cumulative Return Factor and Log Returns"
   ]
  },
  {
   "cell_type": "code",
   "execution_count": 41,
   "id": "5e44a260",
   "metadata": {},
   "outputs": [],
   "source": [
    "data['excess_ret_SPX'] = data['SPX'] - data['TB1M']\n",
    "\n",
    "data['cum_ret_factor_SPX'] = (1 + data['SPX'])\n",
    "data['cum_ret_factor_TB1M'] = (1 + data['TB1M'])\n",
    "data['cum_ret_factor_excess_SPX'] = (1 + data['excess_ret_SPX'])\n",
    "\n",
    "data['log_ret_SPX'] = np.log(data['cum_ret_factor_SPX'])\n",
    "data['log_ret_TB1M'] = np.log(data['cum_ret_factor_TB1M'])\n",
    "data['log_ret_excess_SPX'] = np.log(data['cum_ret_factor_excess_SPX'])\n",
    "\n",
    "data.drop(columns=['cum_ret_factor_SPX', 'cum_ret_factor_TB1M', 'cum_ret_factor_excess_SPX'], inplace=True)"
   ]
  },
  {
   "cell_type": "markdown",
   "id": "1cd57bce",
   "metadata": {},
   "source": [
    "## Subsamples and Full Sample Assignment"
   ]
  },
  {
   "cell_type": "code",
   "execution_count": 42,
   "id": "3887acdf",
   "metadata": {},
   "outputs": [],
   "source": [
    "subsample1 = data[(data['date'] >= '1965-01-01') & (data['date'] <= '1999-12-31')]\n",
    "subsample2 = data[(data['date'] >= '2000-01-01')]\n",
    "fullsample = data.copy()"
   ]
  },
  {
   "cell_type": "markdown",
   "id": "23c2a3c9",
   "metadata": {},
   "source": [
    "## Summary Statistics"
   ]
  },
  {
   "cell_type": "code",
   "execution_count": 43,
   "id": "d5472498",
   "metadata": {},
   "outputs": [],
   "source": [
    "# Annualized Return for Subsamples\n",
    "subsample1_annualized_return = subsample1.select_dtypes(include=np.number).mean() * 12\n",
    "\n",
    "subsample2_annualized_return = subsample2.select_dtypes(include=np.number).mean() * 12\n",
    "\n",
    "fullsample_annualized_return = fullsample.select_dtypes(include=np.number).mean() * 12\n",
    "\n",
    "# Annualized Volatility for Subsamples\n",
    "subsample1_annualized_volatility = subsample1.select_dtypes(include=np.number).std() * np.sqrt(12)\n",
    "\n",
    "subsample2_annualized_volatility = subsample2.select_dtypes(include=np.number).std() * np.sqrt(12)\n",
    "\n",
    "fullsample_annualized_volatility = fullsample.select_dtypes(include=np.number).std() * np.sqrt(12)"
   ]
  },
  {
   "cell_type": "code",
   "execution_count": 44,
   "id": "1acd254a",
   "metadata": {},
   "outputs": [
    {
     "data": {
      "text/html": [
       "<div>\n",
       "<style scoped>\n",
       "    .dataframe tbody tr th:only-of-type {\n",
       "        vertical-align: middle;\n",
       "    }\n",
       "\n",
       "    .dataframe tbody tr th {\n",
       "        vertical-align: top;\n",
       "    }\n",
       "\n",
       "    .dataframe thead tr th {\n",
       "        text-align: left;\n",
       "    }\n",
       "</style>\n",
       "<table border=\"1\" class=\"dataframe\">\n",
       "  <thead>\n",
       "    <tr>\n",
       "      <th></th>\n",
       "      <th colspan=\"3\" halign=\"left\">Annualized Return</th>\n",
       "      <th colspan=\"3\" halign=\"left\">Annualized Volatility</th>\n",
       "    </tr>\n",
       "    <tr>\n",
       "      <th></th>\n",
       "      <th>Subsample 1</th>\n",
       "      <th>Subsample 2</th>\n",
       "      <th>Full Sample</th>\n",
       "      <th>Subsample 1</th>\n",
       "      <th>Subsample 2</th>\n",
       "      <th>Full Sample</th>\n",
       "    </tr>\n",
       "  </thead>\n",
       "  <tbody>\n",
       "    <tr>\n",
       "      <th>SPX</th>\n",
       "      <td>0.129354</td>\n",
       "      <td>0.087542</td>\n",
       "      <td>0.115529</td>\n",
       "      <td>0.149405</td>\n",
       "      <td>0.152815</td>\n",
       "      <td>0.186650</td>\n",
       "    </tr>\n",
       "    <tr>\n",
       "      <th>TB1M</th>\n",
       "      <td>0.061503</td>\n",
       "      <td>0.017451</td>\n",
       "      <td>0.031928</td>\n",
       "      <td>0.007179</td>\n",
       "      <td>0.005553</td>\n",
       "      <td>0.008507</td>\n",
       "    </tr>\n",
       "    <tr>\n",
       "      <th>excess_ret_SPX</th>\n",
       "      <td>0.068660</td>\n",
       "      <td>0.070091</td>\n",
       "      <td>0.083308</td>\n",
       "      <td>0.150227</td>\n",
       "      <td>0.153093</td>\n",
       "      <td>0.187329</td>\n",
       "    </tr>\n",
       "    <tr>\n",
       "      <th>log_ret_SPX</th>\n",
       "      <td>0.117600</td>\n",
       "      <td>0.075553</td>\n",
       "      <td>0.097821</td>\n",
       "      <td>0.149568</td>\n",
       "      <td>0.153763</td>\n",
       "      <td>0.185938</td>\n",
       "    </tr>\n",
       "    <tr>\n",
       "      <th>log_ret_TB1M</th>\n",
       "      <td>0.061320</td>\n",
       "      <td>0.017423</td>\n",
       "      <td>0.031850</td>\n",
       "      <td>0.007132</td>\n",
       "      <td>0.005541</td>\n",
       "      <td>0.008473</td>\n",
       "    </tr>\n",
       "    <tr>\n",
       "      <th>log_ret_excess_SPX</th>\n",
       "      <td>0.057161</td>\n",
       "      <td>0.058143</td>\n",
       "      <td>0.065673</td>\n",
       "      <td>0.151207</td>\n",
       "      <td>0.154227</td>\n",
       "      <td>0.186914</td>\n",
       "    </tr>\n",
       "  </tbody>\n",
       "</table>\n",
       "</div>"
      ],
      "text/plain": [
       "                   Annualized Return                          \\\n",
       "                         Subsample 1 Subsample 2 Full Sample   \n",
       "SPX                         0.129354    0.087542    0.115529   \n",
       "TB1M                        0.061503    0.017451    0.031928   \n",
       "excess_ret_SPX              0.068660    0.070091    0.083308   \n",
       "log_ret_SPX                 0.117600    0.075553    0.097821   \n",
       "log_ret_TB1M                0.061320    0.017423    0.031850   \n",
       "log_ret_excess_SPX          0.057161    0.058143    0.065673   \n",
       "\n",
       "                   Annualized Volatility                          \n",
       "                             Subsample 1 Subsample 2 Full Sample  \n",
       "SPX                             0.149405    0.152815    0.186650  \n",
       "TB1M                            0.007179    0.005553    0.008507  \n",
       "excess_ret_SPX                  0.150227    0.153093    0.187329  \n",
       "log_ret_SPX                     0.149568    0.153763    0.185938  \n",
       "log_ret_TB1M                    0.007132    0.005541    0.008473  \n",
       "log_ret_excess_SPX              0.151207    0.154227    0.186914  "
      ]
     },
     "execution_count": 44,
     "metadata": {},
     "output_type": "execute_result"
    }
   ],
   "source": [
    "annualized_returns = pd.concat(\n",
    "    [subsample1_annualized_return, subsample2_annualized_return, fullsample_annualized_return],\n",
    "    keys=['Subsample 1', 'Subsample 2', 'Full Sample'],\n",
    "    axis=1\n",
    ")\n",
    "annualized_vols = pd.concat(\n",
    "    [subsample1_annualized_volatility, subsample2_annualized_volatility, fullsample_annualized_volatility],\n",
    "    keys=['Subsample 1', 'Subsample 2', 'Full Sample'],\n",
    "    axis=1\n",
    ")\n",
    "\n",
    "summary_stats = pd.concat(\n",
    "    [annualized_returns, annualized_vols],\n",
    "    keys=['Annualized Return', 'Annualized Volatility'],\n",
    "    axis=1\n",
    ")\n",
    "\n",
    "summary_stats"
   ]
  },
  {
   "cell_type": "markdown",
   "id": "5dbd39ff",
   "metadata": {},
   "source": [
    "#### Subsample 1 (1965 - 1999) shows a higher return than Subsample 2 (2000 - 2024). This may be due to market downturns during the dot-com crash and the financial crisis. Log returns are lower than level returns, and the difference is more pronounced in periods of higher volatility."
   ]
  },
  {
   "cell_type": "code",
   "execution_count": 45,
   "id": "0b50a44e",
   "metadata": {},
   "outputs": [
    {
     "data": {
      "text/html": [
       "<div>\n",
       "<style scoped>\n",
       "    .dataframe tbody tr th:only-of-type {\n",
       "        vertical-align: middle;\n",
       "    }\n",
       "\n",
       "    .dataframe tbody tr th {\n",
       "        vertical-align: top;\n",
       "    }\n",
       "\n",
       "    .dataframe thead th {\n",
       "        text-align: right;\n",
       "    }\n",
       "</style>\n",
       "<table border=\"1\" class=\"dataframe\">\n",
       "  <thead>\n",
       "    <tr style=\"text-align: right;\">\n",
       "      <th></th>\n",
       "      <th>Sharpe Ratio</th>\n",
       "      <th>Underperformance (Subsample 1)</th>\n",
       "      <th>Underperformance (15 years)</th>\n",
       "      <th>Underperformance (30 years)</th>\n",
       "    </tr>\n",
       "  </thead>\n",
       "  <tbody>\n",
       "    <tr>\n",
       "      <th>Subsample 1</th>\n",
       "      <td>0.378033</td>\n",
       "      <td>0.013752</td>\n",
       "      <td>0.071581</td>\n",
       "      <td>0.019199</td>\n",
       "    </tr>\n",
       "  </tbody>\n",
       "</table>\n",
       "</div>"
      ],
      "text/plain": [
       "             Sharpe Ratio  Underperformance (Subsample 1)  \\\n",
       "Subsample 1      0.378033                        0.013752   \n",
       "\n",
       "             Underperformance (15 years)  Underperformance (30 years)  \n",
       "Subsample 1                     0.071581                     0.019199  "
      ]
     },
     "execution_count": 45,
     "metadata": {},
     "output_type": "execute_result"
    }
   ],
   "source": [
    "sharpe_ratio_subsample1 = (subsample1['log_ret_excess_SPX'].mean() / subsample1['log_ret_excess_SPX'].std()) * np.sqrt(12)\n",
    "underperformance_subsample1 = norm.cdf(-np.sqrt(34) * (sharpe_ratio_subsample1))\n",
    "underperformance_subsample1_15 = norm.cdf(-np.sqrt(15) * (sharpe_ratio_subsample1))\n",
    "underperformance_subsample1_30 = norm.cdf(-np.sqrt(30) * (sharpe_ratio_subsample1))\n",
    "\n",
    "pd.DataFrame({\n",
    "    'Sharpe Ratio': [sharpe_ratio_subsample1],\n",
    "    'Underperformance (Subsample 1)': [underperformance_subsample1],\n",
    "    'Underperformance (15 years)': [underperformance_subsample1_15],\n",
    "    'Underperformance (30 years)': [underperformance_subsample1_30]\n",
    "}, index=['Subsample 1'])"
   ]
  },
  {
   "cell_type": "code",
   "execution_count": 49,
   "id": "beeda27a",
   "metadata": {},
   "outputs": [
    {
     "data": {
      "text/plain": [
       "Text(0, 0.5, 'Underperformance')"
      ]
     },
     "execution_count": 49,
     "metadata": {},
     "output_type": "execute_result"
    },
    {
     "data": {
      "image/png": "[encoded data removed]",
      "text/plain": [
       "<Figure size 700x500 with 1 Axes>"
      ]
     },
     "metadata": {},
     "output_type": "display_data"
    }
   ],
   "source": [
    "# Plot underperformance for Subsample 1 across horizons\n",
    "horizons = np.arange(1, 31)\n",
    "underperformance = norm.cdf(-np.sqrt(horizons) * (sharpe_ratio_subsample1))\n",
    "\n",
    "plt.figure(figsize=(7, 5))\n",
    "plt.plot(horizons, underperformance, label='Underperformance')\n",
    "plt.xlabel('Horizon (years)')\n",
    "plt.ylabel('Underperformance')"
   ]
  },
  {
   "cell_type": "code",
   "execution_count": null,
   "id": "46a2e441",
   "metadata": {},
   "outputs": [],
   "source": []
  }
 ],
 "metadata": {
  "kernelspec": {
   "display_name": "base",
   "language": "python",
   "name": "python3"
  },
  "language_info": {
   "codemirror_mode": {
    "name": "ipython",
    "version": 3
   },
   "file_extension": ".py",
   "mimetype": "text/x-python",
   "name": "python",
   "nbconvert_exporter": "python",
   "pygments_lexer": "ipython3",
   "version": "3.12.2"
  }
 },
 "nbformat": 4,
 "nbformat_minor": 5
}
