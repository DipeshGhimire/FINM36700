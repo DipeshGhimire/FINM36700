{
 "cells": [
  {
   "cell_type": "markdown",
   "id": "af72cebc",
   "metadata": {},
   "source": [
    "## Importing Packages and Loading the Data"
   ]
  },
  {
   "cell_type": "code",
   "execution_count": 20,
   "id": "0ce65895",
   "metadata": {},
   "outputs": [],
   "source": [
    "# Importing necessary packages and libraries\n",
    "import numpy as np\n",
    "\n",
    "import pandas as pd\n",
    "\n",
    "import matplotlib.pyplot as plt\n",
    "\n",
    "import seaborn as sns\n",
    "\n",
    "import cvxpy as cp"
   ]
  },
  {
   "cell_type": "code",
   "execution_count": 21,
   "id": "b807a39b",
   "metadata": {},
   "outputs": [],
   "source": [
    "# Load the data from excel file\n",
    "data = pd.read_excel('/Users/dipesh/Desktop/FINM Portfolio/multi_asset_etf_data.xlsx', sheet_name=3)\n",
    "\n",
    "# Drop the 'QAI' column\n",
    "data = data.drop(columns=['QAI'])"
   ]
  },
  {
   "cell_type": "markdown",
   "id": "ac450793",
   "metadata": {},
   "source": [
    "## Calculating Summary Statistics"
   ]
  },
  {
   "cell_type": "code",
   "execution_count": 22,
   "id": "22c9d4d2",
   "metadata": {},
   "outputs": [],
   "source": [
    "# Calculate the mean monthly excess returns for each asset\n",
    "mean_monthly_excess_returns = data.select_dtypes(include=[np.number]).mean()\n",
    "\n",
    "# Calculate the standard deviation of the monthly returns for each asset\n",
    "std_monthly_returns = data.select_dtypes(include=[np.number]).std()\n",
    "\n",
    "# Calculating the monthly sharpe ratio of each asset\n",
    "monthly_sharpe_ratio = mean_monthly_excess_returns / std_monthly_returns\n",
    "\n",
    "# Calculating the annualized excess returns for each asset\n",
    "annualized_excess_returns = mean_monthly_excess_returns * 12\n",
    "\n",
    "# Calculating the annualized standard deviation for each asset\n",
    "annualized_std_returns = std_monthly_returns * np.sqrt(12)\n",
    "\n",
    "# Calculating the annualized sharpe ratio for each asset\n",
    "annualized_sharpe_ratio = monthly_sharpe_ratio * np.sqrt(12)\n"
   ]
  },
  {
   "cell_type": "code",
   "execution_count": 23,
   "id": "5088c758",
   "metadata": {},
   "outputs": [
    {
     "data": {
      "text/html": [
       "<div>\n",
       "<style scoped>\n",
       "    .dataframe tbody tr th:only-of-type {\n",
       "        vertical-align: middle;\n",
       "    }\n",
       "\n",
       "    .dataframe tbody tr th {\n",
       "        vertical-align: top;\n",
       "    }\n",
       "\n",
       "    .dataframe thead th {\n",
       "        text-align: right;\n",
       "    }\n",
       "</style>\n",
       "<table border=\"1\" class=\"dataframe\">\n",
       "  <thead>\n",
       "    <tr style=\"text-align: right;\">\n",
       "      <th></th>\n",
       "      <th>Mean Monthly Excess Returns</th>\n",
       "      <th>Standard Deviation of Monthly Returns</th>\n",
       "      <th>Annualized Excess Returns</th>\n",
       "      <th>Annualized Standard Deviation</th>\n",
       "      <th>Annualized Sharpe Ratio</th>\n",
       "    </tr>\n",
       "  </thead>\n",
       "  <tbody>\n",
       "    <tr>\n",
       "      <th>BWX</th>\n",
       "      <td>-0.000643</td>\n",
       "      <td>0.023899</td>\n",
       "      <td>-0.007716</td>\n",
       "      <td>0.082789</td>\n",
       "      <td>-0.093202</td>\n",
       "    </tr>\n",
       "    <tr>\n",
       "      <th>DBC</th>\n",
       "      <td>-0.000441</td>\n",
       "      <td>0.048080</td>\n",
       "      <td>-0.005292</td>\n",
       "      <td>0.166553</td>\n",
       "      <td>-0.031774</td>\n",
       "    </tr>\n",
       "    <tr>\n",
       "      <th>EEM</th>\n",
       "      <td>0.002445</td>\n",
       "      <td>0.050854</td>\n",
       "      <td>0.029339</td>\n",
       "      <td>0.176164</td>\n",
       "      <td>0.166542</td>\n",
       "    </tr>\n",
       "    <tr>\n",
       "      <th>EFA</th>\n",
       "      <td>0.005148</td>\n",
       "      <td>0.043562</td>\n",
       "      <td>0.061775</td>\n",
       "      <td>0.150903</td>\n",
       "      <td>0.409372</td>\n",
       "    </tr>\n",
       "    <tr>\n",
       "      <th>HYG</th>\n",
       "      <td>0.003448</td>\n",
       "      <td>0.021918</td>\n",
       "      <td>0.041371</td>\n",
       "      <td>0.075928</td>\n",
       "      <td>0.544873</td>\n",
       "    </tr>\n",
       "    <tr>\n",
       "      <th>IEF</th>\n",
       "      <td>0.001367</td>\n",
       "      <td>0.018314</td>\n",
       "      <td>0.016404</td>\n",
       "      <td>0.063442</td>\n",
       "      <td>0.258569</td>\n",
       "    </tr>\n",
       "    <tr>\n",
       "      <th>IYR</th>\n",
       "      <td>0.006243</td>\n",
       "      <td>0.048692</td>\n",
       "      <td>0.074916</td>\n",
       "      <td>0.168675</td>\n",
       "      <td>0.444143</td>\n",
       "    </tr>\n",
       "    <tr>\n",
       "      <th>PSP</th>\n",
       "      <td>0.007713</td>\n",
       "      <td>0.061594</td>\n",
       "      <td>0.092561</td>\n",
       "      <td>0.213370</td>\n",
       "      <td>0.433804</td>\n",
       "    </tr>\n",
       "    <tr>\n",
       "      <th>SPY</th>\n",
       "      <td>0.010678</td>\n",
       "      <td>0.041234</td>\n",
       "      <td>0.128141</td>\n",
       "      <td>0.142839</td>\n",
       "      <td>0.897103</td>\n",
       "    </tr>\n",
       "    <tr>\n",
       "      <th>TIP</th>\n",
       "      <td>0.001708</td>\n",
       "      <td>0.014756</td>\n",
       "      <td>0.020502</td>\n",
       "      <td>0.051115</td>\n",
       "      <td>0.401091</td>\n",
       "    </tr>\n",
       "  </tbody>\n",
       "</table>\n",
       "</div>"
      ],
      "text/plain": [
       "     Mean Monthly Excess Returns  Standard Deviation of Monthly Returns  \\\n",
       "BWX                    -0.000643                               0.023899   \n",
       "DBC                    -0.000441                               0.048080   \n",
       "EEM                     0.002445                               0.050854   \n",
       "EFA                     0.005148                               0.043562   \n",
       "HYG                     0.003448                               0.021918   \n",
       "IEF                     0.001367                               0.018314   \n",
       "IYR                     0.006243                               0.048692   \n",
       "PSP                     0.007713                               0.061594   \n",
       "SPY                     0.010678                               0.041234   \n",
       "TIP                     0.001708                               0.014756   \n",
       "\n",
       "     Annualized Excess Returns  Annualized Standard Deviation  \\\n",
       "BWX                  -0.007716                       0.082789   \n",
       "DBC                  -0.005292                       0.166553   \n",
       "EEM                   0.029339                       0.176164   \n",
       "EFA                   0.061775                       0.150903   \n",
       "HYG                   0.041371                       0.075928   \n",
       "IEF                   0.016404                       0.063442   \n",
       "IYR                   0.074916                       0.168675   \n",
       "PSP                   0.092561                       0.213370   \n",
       "SPY                   0.128141                       0.142839   \n",
       "TIP                   0.020502                       0.051115   \n",
       "\n",
       "     Annualized Sharpe Ratio  \n",
       "BWX                -0.093202  \n",
       "DBC                -0.031774  \n",
       "EEM                 0.166542  \n",
       "EFA                 0.409372  \n",
       "HYG                 0.544873  \n",
       "IEF                 0.258569  \n",
       "IYR                 0.444143  \n",
       "PSP                 0.433804  \n",
       "SPY                 0.897103  \n",
       "TIP                 0.401091  "
      ]
     },
     "execution_count": 23,
     "metadata": {},
     "output_type": "execute_result"
    }
   ],
   "source": [
    "# Summary Statistics\n",
    "summary_stats = pd.DataFrame({\n",
    "    'Mean Monthly Excess Returns': mean_monthly_excess_returns,\n",
    "    'Standard Deviation of Monthly Returns': std_monthly_returns,\n",
    "    'Annualized Excess Returns': annualized_excess_returns,\n",
    "    'Annualized Standard Deviation': annualized_std_returns,\n",
    "    'Annualized Sharpe Ratio': annualized_sharpe_ratio\n",
    "})\n",
    "\n",
    "summary_stats"
   ]
  },
  {
   "cell_type": "markdown",
   "id": "959b3ca5",
   "metadata": {},
   "source": [
    "## Calculating and Plotting Correlation Matrix"
   ]
  },
  {
   "cell_type": "code",
   "execution_count": null,
   "id": "959e89af",
   "metadata": {},
   "outputs": [],
   "source": [
    "# Correlation Matrix for the returns\n",
    "corr_mat = data.select_dtypes(include=[np.number]).corr()\n",
    "\n",
    "# Visualizing the correlation matrix\n",
    "plt.figure(figsize=(7, 6))\n",
    "sns.heatmap(corr_mat, annot=True, cmap='coolwarm', center=0)\n",
    "plt.title('Correlation Matrix of Monthly Returns')\n",
    "plt.show()"
   ]
  },
  {
   "cell_type": "markdown",
   "id": "9345905f",
   "metadata": {},
   "source": [
    "#### The pair PSP and EFA has the highest correlation of ~ 0.90. The pair DBC and IEF has the lowest correlation of ~ -0.3"
   ]
  },
  {
   "cell_type": "markdown",
   "id": "4ab40450",
   "metadata": {},
   "source": [
    "## Comparing TIPS to domestic bonds and foreign bonds"
   ]
  },
  {
   "cell_type": "code",
   "execution_count": null,
   "id": "faf67550",
   "metadata": {},
   "outputs": [],
   "source": [
    "# Getting summary statistics for TIPS, domestic bonds, and foreign bonds\n",
    "summary_stats.loc[['TIP', 'IEF', 'BWX'], ['Annualized Excess Returns', 'Annualized Sharpe Ratio']]"
   ]
  },
  {
   "cell_type": "markdown",
   "id": "2677d0e8",
   "metadata": {},
   "source": [
    "#### In our sample, TIPS (TIP) have delivered higher annualized excess returns and a superior risk-adjusted performance (as measured by the Sharpe ratio) compared to both domestic (IEF) and foreign (BWX) bonds."
   ]
  },
  {
   "cell_type": "markdown",
   "id": "d6acded3",
   "metadata": {},
   "source": [
    "## Getting optimal weights for the tangency portfolio"
   ]
  },
  {
   "cell_type": "code",
   "execution_count": null,
   "id": "eb371436",
   "metadata": {},
   "outputs": [],
   "source": [
    "# Covariance matrix of the returns\n",
    "cov_mat = data.select_dtypes(include=[np.number]).cov()\n",
    "\n",
    "# Realized returns\n",
    "mu = mean_monthly_excess_returns\n",
    "\n",
    "# Converting mu and cov_mat to numpy arrays\n",
    "mu_vec = mu.values\n",
    "Sigma = cov_mat.values\n",
    "ones = np.ones(len(mu_vec))\n",
    "\n",
    "# Inverse covariance matrix\n",
    "inv_Sigma = np.linalg.inv(Sigma)\n",
    "\n",
    "# Calculating the tangency portfolio weights\n",
    "w_tan = inv_Sigma @ mu_vec\n",
    "w_tan = w_tan / (ones @ w_tan)\n",
    "\n",
    "w_tan = pd.Series(w_tan, index=mu.index)\n",
    "w_tan"
   ]
  },
  {
   "cell_type": "code",
   "execution_count": null,
   "id": "ccad4508",
   "metadata": {},
   "outputs": [],
   "source": [
    "# Bar plot of the weights of the tangency portfolio\n",
    "plt.figure(figsize=(7, 5))\n",
    "w_tan.plot(kind='bar', ax=plt.gca())\n",
    "plt.title('Tangency Portfolio Weights')\n",
    "plt.xlabel('Assets')\n",
    "plt.ylabel('Weight')\n",
    "plt.show()"
   ]
  },
  {
   "cell_type": "markdown",
   "id": "8d82ac7e",
   "metadata": {},
   "source": [
    "## Plotting the Efficient Frontier"
   ]
  },
  {
   "cell_type": "code",
   "execution_count": null,
   "id": "6ea02ecc",
   "metadata": {},
   "outputs": [],
   "source": [
    "# Efficient frontier: plot portfolio expected excess return vs. standard deviation as a function of risk aversion (lambda)\n",
    "n = len(mu)\n",
    "lambdas = np.logspace(0.5, 3, 50)\n",
    "\n",
    "portfolio_returns = []\n",
    "portfolio_stds = []\n",
    "\n",
    "for lambda_ in lambdas:\n",
    "    # Set up the optimization variable for portfolio weights\n",
    "    w = cp.Variable(n)\n",
    "    # Maximize expected excess return minus lambda times portfolio variance\n",
    "    objective = cp.Maximize(mu_vec @ w - lambda_ * cp.quad_form(w, Sigma))\n",
    "    constraints = [cp.sum(w) == 1]\n",
    "    problem = cp.Problem(objective, constraints)\n",
    "    problem.solve()\n",
    "    w_opt = w.value\n",
    "    if w_opt is not None:\n",
    "        # Calculate portfolio expected excess return and standard deviation (annualized)\n",
    "        port_return = (w_opt @ mu_vec) * 12\n",
    "        port_std = np.sqrt(w_opt @ Sigma @ w_opt) * np.sqrt(12)\n",
    "        portfolio_returns.append(port_return)\n",
    "        portfolio_stds.append(port_std)\n",
    "    else:\n",
    "        portfolio_returns.append(np.nan)\n",
    "        portfolio_stds.append(np.nan)\n",
    "\n",
    "# Individual asset expected excess returns and volatilities (annualized)\n",
    "asset_returns = mu_vec * 12\n",
    "asset_stds = np.sqrt(np.diag(Sigma)) * np.sqrt(12)\n",
    "\n",
    "plt.figure(figsize=(8, 5))\n",
    "plt.plot(portfolio_stds, portfolio_returns, marker='o', label='Efficient Frontier')\n",
    "plt.scatter(asset_stds, asset_returns, color='red', zorder=5, label='Individual Assets')\n",
    "for i, asset in enumerate(mu.index):\n",
    "    plt.annotate(asset, (asset_stds[i], asset_returns[i]), textcoords=\"offset points\", xytext=(5,5), ha='left', fontsize=9)\n",
    "\n",
    "plt.xlabel('Portfolio Standard Deviation (Annualized)')\n",
    "plt.ylabel('Portfolio Expected Excess Return (Annualized)')\n",
    "plt.title('Efficient Frontier (varying risk aversion λ) with Individual Assets')\n",
    "plt.legend()\n",
    "plt.grid(True)\n",
    "plt.show()"
   ]
  },
  {
   "cell_type": "markdown",
   "id": "643bbdd1",
   "metadata": {},
   "source": [
    "## Ranking of Tangency Portfolio Weights and Sharpe Ratio"
   ]
  },
  {
   "cell_type": "code",
   "execution_count": null,
   "id": "54c97764",
   "metadata": {},
   "outputs": [],
   "source": [
    "ranks = pd.DataFrame({\n",
    "    'Sharpe Ratio Rank': annualized_sharpe_ratio.rank(),\n",
    "    'Tangency Weight Rank': w_tan.rank()\n",
    "})\n",
    "ax = ranks.plot(kind='scatter', x='Sharpe Ratio Rank', y='Tangency Weight Rank')\n",
    "ax.set_xlabel('Sharpe Ratio Rank')\n",
    "ax.set_ylabel('Tangency Weight Rank')\n",
    "ax.set_title('Rank Correlation : Non-Monotonic Relationship')\n",
    "plt.show()"
   ]
  },
  {
   "cell_type": "markdown",
   "id": "86457046",
   "metadata": {},
   "source": [
    "#### No, the ranking of the weights does not align with the Sharpe ratio and is not monotonic"
   ]
  },
  {
   "cell_type": "markdown",
   "id": "d5ca4be1",
   "metadata": {},
   "source": [
    "## Computing the Mean, Volatility and Sharpe Ratio for the Tangency Portfolio"
   ]
  },
  {
   "cell_type": "code",
   "execution_count": null,
   "id": "bf2498ba",
   "metadata": {},
   "outputs": [],
   "source": [
    "mean_tan = (w_tan @ mu_vec) * 12\n",
    "vol_tan = np.sqrt(w_tan @ Sigma @ w_tan) * np.sqrt(12)\n",
    "sharpe_tan = mean_tan / vol_tan\n",
    "\n",
    "tan_portfolio_stats = pd.DataFrame({\n",
    "    'Mean': [mean_tan],\n",
    "    'Volatility': [vol_tan],\n",
    "    'Sharpe Ratio': [sharpe_tan]\n",
    "}, index=['Tangency Portfolio'])\n",
    "\n",
    "tan_portfolio_stats = tan_portfolio_stats.round(2)\n",
    "tan_portfolio_stats\n"
   ]
  },
  {
   "cell_type": "markdown",
   "id": "a1dda288",
   "metadata": {},
   "source": [
    "## Tangency Portfolio Without TIPS"
   ]
  },
  {
   "cell_type": "code",
   "execution_count": null,
   "id": "3d5f742a",
   "metadata": {},
   "outputs": [],
   "source": [
    "# Covariance matrix of the returns without TIP\n",
    "cov_mat_without_TIP = data.select_dtypes(include=[np.number]).drop(columns=['TIP']).cov()\n",
    "\n",
    "# Realized returns without TIP\n",
    "mu_without_TIP = mean_monthly_excess_returns.drop(index=['TIP'])\n",
    "\n",
    "# Converting mu_without_TIP and cov_mat_without_TIP to numpy arrays\n",
    "mu_vec_without_TIP = mu_without_TIP.values\n",
    "Sigma_without_TIP = cov_mat_without_TIP.values\n",
    "ones = np.ones(len(mu_vec_without_TIP))\n",
    "\n",
    "# Inverse covariance matrix without TIP\n",
    "inv_Sigma_without_TIP = np.linalg.inv(Sigma_without_TIP)\n",
    "\n",
    "# Calculating the tangency portfolio weights without TIP\n",
    "w_tan_without_TIP = inv_Sigma_without_TIP @ mu_vec_without_TIP\n",
    "w_tan_without_TIP = w_tan_without_TIP / (ones @ w_tan_without_TIP)\n",
    "\n",
    "w_tan_without_TIP = pd.Series(w_tan_without_TIP, index=mu_without_TIP.index)\n",
    "w_tan_without_TIP"
   ]
  },
  {
   "cell_type": "code",
   "execution_count": null,
   "id": "553bb142",
   "metadata": {},
   "outputs": [],
   "source": [
    "# Bar plot comparing the weights of the tangency portfolio with and without TIP\n",
    "plt.figure(figsize=(7, 5))\n",
    "weights_df = pd.DataFrame({\n",
    "    'With TIP': w_tan,\n",
    "    'Without TIP': w_tan_without_TIP\n",
    "})\n",
    "weights_df.plot(kind='bar', ax=plt.gca())\n",
    "plt.title('Tangency Portfolio Weights: With vs Without TIP')\n",
    "plt.xlabel('Assets')\n",
    "plt.ylabel('Weight')\n",
    "plt.legend(title='Portfolio')\n",
    "plt.tight_layout()\n",
    "plt.show()"
   ]
  },
  {
   "cell_type": "code",
   "execution_count": null,
   "id": "9324eda4",
   "metadata": {},
   "outputs": [],
   "source": [
    "mean_tan_without_TIP = (w_tan_without_TIP @ mu_vec_without_TIP) * 12\n",
    "vol_tan_without_TIP = np.sqrt(w_tan_without_TIP @ Sigma_without_TIP @ w_tan_without_TIP) * np.sqrt(12)\n",
    "sharpe_tan_without_TIP = mean_tan_without_TIP / vol_tan_without_TIP\n",
    "\n",
    "tan_portfolio_stats_without_TIP = pd.DataFrame({\n",
    "    'Mean': [mean_tan_without_TIP],\n",
    "    'Volatility': [vol_tan_without_TIP],\n",
    "    'Sharpe Ratio': [sharpe_tan_without_TIP]\n",
    "}, index=['Tangency Portfolio (without TIP)'])\n",
    "\n",
    "tan_portfolio_stats_without_TIP = tan_portfolio_stats_without_TIP.round(2)\n",
    "tan_portfolio_stats_without_TIP\n"
   ]
  },
  {
   "cell_type": "markdown",
   "id": "a5633966",
   "metadata": {},
   "source": [
    "#### Excluding TIPS from the portfolio has minimal effect on both the asset weights and overall performance metrics."
   ]
  },
  {
   "cell_type": "code",
   "execution_count": null,
   "id": "66b33fc9",
   "metadata": {},
   "outputs": [],
   "source": [
    "# Adjusting the TIP to be 0.0012 higher than what the historic sample suggests\n",
    "tip_adjusted_data = data.copy()\n",
    "tip_adjusted_data['TIP'] = tip_adjusted_data['TIP'] + (0.0012)\n",
    "tip_adjusted_mu = tip_adjusted_data.select_dtypes(include=[np.number]).mean()\n",
    "\n",
    "# Converting tip_adjusted_mu and cov_mat to numpy arrays\n",
    "tip_adjusted_mu_vec = tip_adjusted_mu.values\n",
    "Sigma_tip_adjusted = cov_mat.values\n",
    "ones = np.ones(len(tip_adjusted_mu_vec))\n",
    "\n",
    "# Inverse covariance matrix\n",
    "inv_Sigma_tip_adjusted = np.linalg.inv(Sigma_tip_adjusted)\n",
    "\n",
    "# Calculating the tangency portfolio weights\n",
    "w_tan_tip_adjusted = inv_Sigma_tip_adjusted @ tip_adjusted_mu_vec\n",
    "w_tan_tip_adjusted = w_tan_tip_adjusted / (ones @ w_tan_tip_adjusted)\n",
    "\n",
    "w_tan_tip_adjusted = pd.Series(w_tan_tip_adjusted, index=tip_adjusted_mu.index)\n",
    "w_tan_tip_adjusted"
   ]
  },
  {
   "cell_type": "code",
   "execution_count": null,
   "id": "e74a4ebb",
   "metadata": {},
   "outputs": [],
   "source": [
    "# Bar plot comparing the weights of the tangency portfolio with and without TIP and adjusted TIP\n",
    "plt.figure(figsize=(7, 5))\n",
    "weights_df = pd.DataFrame({\n",
    "    'With TIP': w_tan,\n",
    "    'Without TIP': w_tan_without_TIP,\n",
    "    'Adjusted TIP': w_tan_tip_adjusted\n",
    "})\n",
    "weights_df.plot(kind='bar', ax=plt.gca())\n",
    "plt.title('Tangency Portfolio Weights: With vs Without TIP')\n",
    "plt.xlabel('Assets')\n",
    "plt.ylabel('Weight')\n",
    "plt.legend(title='Portfolio')\n",
    "plt.tight_layout()\n",
    "plt.show()"
   ]
  },
  {
   "cell_type": "code",
   "execution_count": null,
   "id": "190067e0",
   "metadata": {},
   "outputs": [],
   "source": [
    "mean_tan_tip_adjusted = (w_tan_tip_adjusted @ tip_adjusted_mu_vec) * 12\n",
    "vol_tan_tip_adjusted = np.sqrt(w_tan_tip_adjusted @ Sigma_tip_adjusted @ w_tan_tip_adjusted) * np.sqrt(12)\n",
    "sharpe_tan_tip_adjusted = mean_tan_tip_adjusted / vol_tan_tip_adjusted\n",
    "\n",
    "tan_portfolio_stats_tip_adjusted = pd.DataFrame({\n",
    "    'Mean': [mean_tan_tip_adjusted],\n",
    "    'Volatility': [vol_tan_tip_adjusted],\n",
    "    'Sharpe Ratio': [sharpe_tan_tip_adjusted]\n",
    "}, index=['Tangency Portfolio (TIP Adjusted)'])\n",
    "\n",
    "tan_portfolio_stats_tip_adjusted = tan_portfolio_stats_tip_adjusted.round(5)\n",
    "tan_portfolio_stats_tip_adjusted"
   ]
  },
  {
   "cell_type": "markdown",
   "id": "8bf3280e",
   "metadata": {},
   "source": [
    "#### Although dropping TIPS did not significantly affect the portfolio weights or performance, including TIPS which performed slightly better (0.0012, or approximately 1.44% better annually) did improve the Sharpe ratio of the portfolio from 1.47 to 1.61. This suggests that TIPS do help expand the investment opportunity set."
   ]
  },
  {
   "cell_type": "markdown",
   "id": "b2491f9c",
   "metadata": {},
   "source": [
    "## Comparing different weighting schemes"
   ]
  },
  {
   "cell_type": "code",
   "execution_count": null,
   "id": "a2da667c",
   "metadata": {},
   "outputs": [],
   "source": [
    "weights_equal = mean_monthly_excess_returns*0 + (1/len(mean_monthly_excess_returns))\n",
    "weights_risk_parity = 1/(std_monthly_returns**2)\n",
    "weights_tan = w_tan\n",
    "\n",
    "target_mean_return = 0.01\n",
    "\n",
    "scaling_factor_equal = target_mean_return/(weights_equal @ mu_vec)\n",
    "scaling_factor_risk_parity = target_mean_return/(weights_risk_parity @ mu_vec)\n",
    "scaling_factor_tan = target_mean_return/(weights_tan @ mu_vec)\n",
    "\n",
    "scaled_weights_equal = scaling_factor_equal * weights_equal\n",
    "scaled_weights_risk_parity = scaling_factor_risk_parity * weights_risk_parity\n",
    "scaled_weights_tan = scaling_factor_tan * weights_tan"
   ]
  },
  {
   "cell_type": "code",
   "execution_count": null,
   "id": "d79d3c39",
   "metadata": {},
   "outputs": [],
   "source": [
    "# Summary Statistics for the different weighting schemes (annualized)\n",
    "schemes = {\n",
    "    'Equal Weighting': (scaling_factor_equal * weights_equal),\n",
    "    'Risk Parity': (scaling_factor_risk_parity * weights_risk_parity),\n",
    "    'Tangency': (scaling_factor_tan * weights_tan)\n",
    "}\n",
    "\n",
    "summary_stats = pd.DataFrame(\n",
    "    {\n",
    "        'Mean': [12 * (w @ mu_vec) for w in schemes.values()],\n",
    "        'Volatility': [np.sqrt(12) * np.sqrt(w @ Sigma @ w) for w in schemes.values()],\n",
    "        'Sharpe Ratio': [\n",
    "            (12 * (w @ mu_vec)) / (np.sqrt(12) * np.sqrt(w @ Sigma @ w)) for w in schemes.values()\n",
    "        ]\n",
    "    },\n",
    "    index=schemes.keys()\n",
    ")\n",
    "summary_stats = summary_stats.round(5)\n",
    "summary_stats"
   ]
  }
 ],
 "metadata": {
  "kernelspec": {
   "display_name": "base",
   "language": "python",
   "name": "python3"
  },
  "language_info": {
   "codemirror_mode": {
    "name": "ipython",
    "version": 3
   },
   "file_extension": ".py",
   "mimetype": "text/x-python",
   "name": "python",
   "nbconvert_exporter": "python",
   "pygments_lexer": "ipython3",
   "version": "3.12.2"
  }
 },
 "nbformat": 4,
 "nbformat_minor": 5
}
