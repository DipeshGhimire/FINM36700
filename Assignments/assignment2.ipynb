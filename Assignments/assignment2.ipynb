{
 "cells": [
  {
   "cell_type": "markdown",
   "id": "42bcc000",
   "metadata": {},
   "source": [
    "## Importing necessary packages and loading dataset"
   ]
  },
  {
   "cell_type": "code",
   "execution_count": 61,
   "id": "a224f93c",
   "metadata": {},
   "outputs": [],
   "source": [
    "import numpy as np\n",
    "\n",
    "import pandas as pd\n",
    "\n",
    "import statsmodels.api as sm\n",
    "\n",
    "import seaborn as sns\n",
    "\n",
    "import matplotlib.pyplot as plt"
   ]
  },
  {
   "cell_type": "code",
   "execution_count": 62,
   "id": "1bbec8d6",
   "metadata": {},
   "outputs": [],
   "source": [
    "# Loading the hedge fund series\n",
    "hedge_fund_series = pd.read_excel('../proshares_analysis_data.xlsx', sheet_name=1)\n",
    "\n",
    "merrill_factors = pd.read_excel('../proshares_analysis_data.xlsx', sheet_name=2)\n",
    "\n",
    "# Rename the unnamed column to 'Date'\n",
    "hedge_fund_series.rename(columns={'Unnamed: 0': 'date'}, inplace=True)\n",
    "\n",
    "# Convert the 'Date' column to datetime\n",
    "hedge_fund_series['date'] = pd.to_datetime(hedge_fund_series['date'])"
   ]
  },
  {
   "cell_type": "code",
   "execution_count": 65,
   "id": "4779be3b",
   "metadata": {},
   "outputs": [
    {
     "data": {
      "text/html": [
       "<div>\n",
       "<style scoped>\n",
       "    .dataframe tbody tr th:only-of-type {\n",
       "        vertical-align: middle;\n",
       "    }\n",
       "\n",
       "    .dataframe tbody tr th {\n",
       "        vertical-align: top;\n",
       "    }\n",
       "\n",
       "    .dataframe thead th {\n",
       "        text-align: right;\n",
       "    }\n",
       "</style>\n",
       "<table border=\"1\" class=\"dataframe\">\n",
       "  <thead>\n",
       "    <tr style=\"text-align: right;\">\n",
       "      <th></th>\n",
       "      <th>Annual Mean</th>\n",
       "      <th>Annual Volatility</th>\n",
       "      <th>Sharpe Ratio</th>\n",
       "    </tr>\n",
       "  </thead>\n",
       "  <tbody>\n",
       "    <tr>\n",
       "      <th>HFRIFWI Index</th>\n",
       "      <td>0.051279</td>\n",
       "      <td>0.058796</td>\n",
       "      <td>0.872151</td>\n",
       "    </tr>\n",
       "    <tr>\n",
       "      <th>MLEIFCTR Index</th>\n",
       "      <td>0.038535</td>\n",
       "      <td>0.055240</td>\n",
       "      <td>0.697589</td>\n",
       "    </tr>\n",
       "    <tr>\n",
       "      <th>MLEIFCTX Index</th>\n",
       "      <td>0.036526</td>\n",
       "      <td>0.055102</td>\n",
       "      <td>0.662880</td>\n",
       "    </tr>\n",
       "    <tr>\n",
       "      <th>HDG US Equity</th>\n",
       "      <td>0.026880</td>\n",
       "      <td>0.057388</td>\n",
       "      <td>0.468396</td>\n",
       "    </tr>\n",
       "    <tr>\n",
       "      <th>QAI US Equity</th>\n",
       "      <td>0.028811</td>\n",
       "      <td>0.049823</td>\n",
       "      <td>0.578275</td>\n",
       "    </tr>\n",
       "  </tbody>\n",
       "</table>\n",
       "</div>"
      ],
      "text/plain": [
       "                Annual Mean  Annual Volatility  Sharpe Ratio\n",
       "HFRIFWI Index      0.051279           0.058796      0.872151\n",
       "MLEIFCTR Index     0.038535           0.055240      0.697589\n",
       "MLEIFCTX Index     0.036526           0.055102      0.662880\n",
       "HDG US Equity      0.026880           0.057388      0.468396\n",
       "QAI US Equity      0.028811           0.049823      0.578275"
      ]
     },
     "execution_count": 65,
     "metadata": {},
     "output_type": "execute_result"
    }
   ],
   "source": [
    "annual_mean = hedge_fund_series.select_dtypes(include=[np.number]).mean() *12\n",
    "annual_vol = hedge_fund_series.select_dtypes(include=[np.number]).std() * np.sqrt(12)\n",
    "\n",
    "annualized_sharpe_ratio = annual_mean / annual_vol\n",
    "\n",
    "pd.DataFrame({\n",
    "    'Annual Mean': annual_mean,\n",
    "    'Annual Volatility': annual_vol,\n",
    "    'Sharpe Ratio': annualized_sharpe_ratio\n",
    "})"
   ]
  },
  {
   "cell_type": "code",
   "execution_count": 66,
   "id": "a4a28ffd",
   "metadata": {},
   "outputs": [],
   "source": [
    "skewness = hedge_fund_series.select_dtypes(include=[np.number]).skew()\n",
    "excess_kurtosis = hedge_fund_series.select_dtypes(include=[np.number]).kurtosis()\n",
    "alpha = 0.05\n",
    "VaR_05 = hedge_fund_series.quantile(alpha)\n",
    "CVaR_05 = hedge_fund_series[hedge_fund_series <= VaR_05].mean()\n"
   ]
  },
  {
   "cell_type": "code",
   "execution_count": 67,
   "id": "cd4c5fcd",
   "metadata": {},
   "outputs": [
    {
     "name": "stdout",
     "output_type": "stream",
     "text": [
      "             Fund Max_Drawdown  Peak_Date Trough_Date Recovery_Date\n",
      "0   HFRIFWI Index      -11.55% 2019-12-31  2020-03-31    2020-08-31\n",
      "1  MLEIFCTR Index      -12.43% 2021-06-30  2022-09-30    2024-02-29\n",
      "2  MLEIFCTX Index      -12.44% 2021-06-30  2022-09-30    2024-02-29\n",
      "3   HDG US Equity      -14.07% 2021-06-30  2022-09-30    2024-07-31\n",
      "4   QAI US Equity      -13.77% 2021-06-30  2022-09-30    2024-02-29\n"
     ]
    }
   ],
   "source": [
    "# Prepare the data by sorting and setting 'date' as the index\n",
    "df = hedge_fund_series.copy().sort_values('date')\n",
    "df.set_index('date', inplace=True)\n",
    "\n",
    "mdd_results = []\n",
    "\n",
    "for column in df.columns:\n",
    "    returns = df[column].dropna()\n",
    "    cumulative = (1 + returns).cumprod()\n",
    "    running_max = cumulative.cummax()\n",
    "    drawdown = cumulative / running_max - 1\n",
    "\n",
    "    # Index (date) where drawdown hits its minimum (trough)\n",
    "    trough_date = drawdown.idxmin()\n",
    "    max_drawdown = drawdown.loc[trough_date]\n",
    "\n",
    "    # Peak date before trough\n",
    "    peak_date = cumulative.loc[:trough_date].idxmax()\n",
    "\n",
    "    # Find first date after trough where recovery to previous peak occurs\n",
    "    recovery_date = None\n",
    "    recovered = cumulative.loc[trough_date:][cumulative.loc[trough_date:] >= cumulative.loc[peak_date]]\n",
    "    if not recovered.empty:\n",
    "        recovery_date = recovered.index[0]\n",
    "\n",
    "    mdd_results.append({\n",
    "        'Fund': column,\n",
    "        'Max_Drawdown': max_drawdown,\n",
    "        'Peak_Date': peak_date,\n",
    "        'Trough_Date': trough_date,\n",
    "        'Recovery_Date': recovery_date\n",
    "    })\n",
    "\n",
    "mdd_table = pd.DataFrame(mdd_results)\n",
    "mdd_table['Max_Drawdown'] = (mdd_table['Max_Drawdown'] * 100).round(2).astype(str) + '%'\n",
    "\n",
    "print(mdd_table)"
   ]
  },
  {
   "cell_type": "code",
   "execution_count": 68,
   "id": "b96120d1",
   "metadata": {},
   "outputs": [
    {
     "data": {
      "text/html": [
       "<div>\n",
       "<style scoped>\n",
       "    .dataframe tbody tr th:only-of-type {\n",
       "        vertical-align: middle;\n",
       "    }\n",
       "\n",
       "    .dataframe tbody tr th {\n",
       "        vertical-align: top;\n",
       "    }\n",
       "\n",
       "    .dataframe thead th {\n",
       "        text-align: right;\n",
       "    }\n",
       "</style>\n",
       "<table border=\"1\" class=\"dataframe\">\n",
       "  <thead>\n",
       "    <tr style=\"text-align: right;\">\n",
       "      <th></th>\n",
       "      <th>skewness</th>\n",
       "      <th>excess_kurtosis</th>\n",
       "      <th>VaR_05</th>\n",
       "      <th>CVaR_05</th>\n",
       "      <th>Max_Drawdown</th>\n",
       "      <th>Peak_Date</th>\n",
       "      <th>Trough_Date</th>\n",
       "      <th>Recovery_Date</th>\n",
       "    </tr>\n",
       "  </thead>\n",
       "  <tbody>\n",
       "    <tr>\n",
       "      <th>HFRIFWI Index</th>\n",
       "      <td>-0.948272</td>\n",
       "      <td>5.657351</td>\n",
       "      <td>-0.024008</td>\n",
       "      <td>-0.035992</td>\n",
       "      <td>-11.55%</td>\n",
       "      <td>2019-12-31</td>\n",
       "      <td>2020-03-31</td>\n",
       "      <td>2020-08-31</td>\n",
       "    </tr>\n",
       "    <tr>\n",
       "      <th>MLEIFCTR Index</th>\n",
       "      <td>-0.289982</td>\n",
       "      <td>1.630917</td>\n",
       "      <td>-0.027002</td>\n",
       "      <td>-0.034993</td>\n",
       "      <td>-12.43%</td>\n",
       "      <td>2021-06-30</td>\n",
       "      <td>2022-09-30</td>\n",
       "      <td>2024-02-29</td>\n",
       "    </tr>\n",
       "    <tr>\n",
       "      <th>MLEIFCTX Index</th>\n",
       "      <td>-0.273477</td>\n",
       "      <td>1.589790</td>\n",
       "      <td>-0.02697</td>\n",
       "      <td>-0.034937</td>\n",
       "      <td>-12.44%</td>\n",
       "      <td>2021-06-30</td>\n",
       "      <td>2022-09-30</td>\n",
       "      <td>2024-02-29</td>\n",
       "    </tr>\n",
       "    <tr>\n",
       "      <th>HDG US Equity</th>\n",
       "      <td>-0.274904</td>\n",
       "      <td>1.776481</td>\n",
       "      <td>-0.029919</td>\n",
       "      <td>-0.036831</td>\n",
       "      <td>-14.07%</td>\n",
       "      <td>2021-06-30</td>\n",
       "      <td>2022-09-30</td>\n",
       "      <td>2024-07-31</td>\n",
       "    </tr>\n",
       "    <tr>\n",
       "      <th>QAI US Equity</th>\n",
       "      <td>-0.433508</td>\n",
       "      <td>1.449184</td>\n",
       "      <td>-0.017171</td>\n",
       "      <td>-0.030995</td>\n",
       "      <td>-13.77%</td>\n",
       "      <td>2021-06-30</td>\n",
       "      <td>2022-09-30</td>\n",
       "      <td>2024-02-29</td>\n",
       "    </tr>\n",
       "  </tbody>\n",
       "</table>\n",
       "</div>"
      ],
      "text/plain": [
       "                skewness  excess_kurtosis    VaR_05   CVaR_05 Max_Drawdown  \\\n",
       "HFRIFWI Index  -0.948272         5.657351 -0.024008 -0.035992      -11.55%   \n",
       "MLEIFCTR Index -0.289982         1.630917 -0.027002 -0.034993      -12.43%   \n",
       "MLEIFCTX Index -0.273477         1.589790  -0.02697 -0.034937      -12.44%   \n",
       "HDG US Equity  -0.274904         1.776481 -0.029919 -0.036831      -14.07%   \n",
       "QAI US Equity  -0.433508         1.449184 -0.017171 -0.030995      -13.77%   \n",
       "\n",
       "                Peak_Date Trough_Date Recovery_Date  \n",
       "HFRIFWI Index  2019-12-31  2020-03-31    2020-08-31  \n",
       "MLEIFCTR Index 2021-06-30  2022-09-30    2024-02-29  \n",
       "MLEIFCTX Index 2021-06-30  2022-09-30    2024-02-29  \n",
       "HDG US Equity  2021-06-30  2022-09-30    2024-07-31  \n",
       "QAI US Equity  2021-06-30  2022-09-30    2024-02-29  "
      ]
     },
     "execution_count": 68,
     "metadata": {},
     "output_type": "execute_result"
    }
   ],
   "source": [
    "# Summarize the results\n",
    "\n",
    "summary_df = pd.concat(\n",
    "    [skewness, excess_kurtosis, VaR_05, CVaR_05],\n",
    "    axis=1,\n",
    "    keys=['skewness', 'excess_kurtosis', 'VaR_05', 'CVaR_05']\n",
    ")\n",
    "\n",
    "# Remove 'date' row if it exists\n",
    "summary_df = summary_df.drop('date', errors='ignore')\n",
    "\n",
    "mdd_table_for_concat = mdd_table.copy()\n",
    "mdd_table_for_concat.set_index('Fund', inplace=True)\n",
    "\n",
    "# Join Max_Drawdown and date columns to the summary\n",
    "summary_combined = summary_df.join(mdd_table_for_concat[['Max_Drawdown', 'Peak_Date', 'Trough_Date', 'Recovery_Date']])\n",
    "\n",
    "summary_combined\n"
   ]
  },
  {
   "cell_type": "markdown",
   "id": "0834990b",
   "metadata": {},
   "source": [
    "## Beta, IR, Alpha, Residual Vol and Treynor Ratio of the funds"
   ]
  },
  {
   "cell_type": "code",
   "execution_count": 8,
   "id": "06b6af87",
   "metadata": {},
   "outputs": [
    {
     "data": {
      "text/html": [
       "<div>\n",
       "<style scoped>\n",
       "    .dataframe tbody tr th:only-of-type {\n",
       "        vertical-align: middle;\n",
       "    }\n",
       "\n",
       "    .dataframe tbody tr th {\n",
       "        vertical-align: top;\n",
       "    }\n",
       "\n",
       "    .dataframe thead th {\n",
       "        text-align: right;\n",
       "    }\n",
       "</style>\n",
       "<table border=\"1\" class=\"dataframe\">\n",
       "  <thead>\n",
       "    <tr style=\"text-align: right;\">\n",
       "      <th></th>\n",
       "      <th>Fund</th>\n",
       "      <th>Beta</th>\n",
       "      <th>Treynor Ratio (annual)</th>\n",
       "      <th>Information Ratio (annual)</th>\n",
       "      <th>Alpha (monthly)</th>\n",
       "      <th>Residual Std (monthly)</th>\n",
       "    </tr>\n",
       "  </thead>\n",
       "  <tbody>\n",
       "    <tr>\n",
       "      <th>0</th>\n",
       "      <td>HFRIFWI Index</td>\n",
       "      <td>0.346312</td>\n",
       "      <td>0.148072</td>\n",
       "      <td>0.055336</td>\n",
       "      <td>0.000144</td>\n",
       "      <td>0.009042</td>\n",
       "    </tr>\n",
       "    <tr>\n",
       "      <th>1</th>\n",
       "      <td>MLEIFCTR Index</td>\n",
       "      <td>0.342487</td>\n",
       "      <td>0.112514</td>\n",
       "      <td>-0.436440</td>\n",
       "      <td>-0.000920</td>\n",
       "      <td>0.007300</td>\n",
       "    </tr>\n",
       "    <tr>\n",
       "      <th>2</th>\n",
       "      <td>MLEIFCTX Index</td>\n",
       "      <td>0.341483</td>\n",
       "      <td>0.106963</td>\n",
       "      <td>-0.510548</td>\n",
       "      <td>-0.001075</td>\n",
       "      <td>0.007294</td>\n",
       "    </tr>\n",
       "    <tr>\n",
       "      <th>3</th>\n",
       "      <td>HDG US Equity</td>\n",
       "      <td>0.350602</td>\n",
       "      <td>0.076669</td>\n",
       "      <td>-0.862386</td>\n",
       "      <td>-0.001989</td>\n",
       "      <td>0.007989</td>\n",
       "    </tr>\n",
       "    <tr>\n",
       "      <th>4</th>\n",
       "      <td>QAI US Equity</td>\n",
       "      <td>0.301413</td>\n",
       "      <td>0.095587</td>\n",
       "      <td>-0.597796</td>\n",
       "      <td>-0.001235</td>\n",
       "      <td>0.007154</td>\n",
       "    </tr>\n",
       "  </tbody>\n",
       "</table>\n",
       "</div>"
      ],
      "text/plain": [
       "             Fund      Beta  Treynor Ratio (annual)  \\\n",
       "0   HFRIFWI Index  0.346312                0.148072   \n",
       "1  MLEIFCTR Index  0.342487                0.112514   \n",
       "2  MLEIFCTX Index  0.341483                0.106963   \n",
       "3   HDG US Equity  0.350602                0.076669   \n",
       "4   QAI US Equity  0.301413                0.095587   \n",
       "\n",
       "   Information Ratio (annual)  Alpha (monthly)  Residual Std (monthly)  \n",
       "0                    0.055336         0.000144                0.009042  \n",
       "1                   -0.436440        -0.000920                0.007300  \n",
       "2                   -0.510548        -0.001075                0.007294  \n",
       "3                   -0.862386        -0.001989                0.007989  \n",
       "4                   -0.597796        -0.001235                0.007154  "
      ]
     },
     "execution_count": 8,
     "metadata": {},
     "output_type": "execute_result"
    }
   ],
   "source": [
    "results = []\n",
    "for fund in hedge_fund_series.columns.drop('date'):\n",
    "    df = pd.concat([hedge_fund_series[fund], merrill_factors['SPY US Equity']], axis=1).dropna()\n",
    "    df.columns = ['fund', 'SPY US Equity']\n",
    "    X = sm.add_constant(df['SPY US Equity'])\n",
    "    y = df['fund']\n",
    "    model = sm.OLS(y, X).fit()\n",
    "    alpha_hat = model.params['const']\n",
    "    beta_hat = model.params['SPY US Equity']\n",
    "    resid = model.resid\n",
    "    mean_fund = y.mean()\n",
    "    sigma_e = resid.std()\n",
    "    treynor = (12 * mean_fund) / beta_hat\n",
    "    info_ratio = np.sqrt(12) * (alpha_hat / sigma_e)\n",
    "    results.append({\n",
    "        'Fund': fund,\n",
    "        'Beta': beta_hat,\n",
    "        'Treynor Ratio (annual)': treynor,\n",
    "        'Information Ratio (annual)': info_ratio,\n",
    "        'Alpha (monthly)': alpha_hat,\n",
    "        'Residual Std (monthly)': sigma_e\n",
    "    })\n",
    "reg_summary = pd.DataFrame(results)\n",
    "reg_summary"
   ]
  },
  {
   "cell_type": "markdown",
   "id": "484227f3",
   "metadata": {},
   "source": [
    "#### Hedge funds take roughly one-third of the market’s directional risk. They are partly market-neutral, so that explains that their returns depend less on broad equity movements. Finally, their alphas are small to slightly negative, suggesting that after adjusting for market exposure they have not outperformed SPY materially on a risk-adjusted basis during the sample."
   ]
  },
  {
   "cell_type": "markdown",
   "id": "5e381ae8",
   "metadata": {},
   "source": [
    "#### QAI outperforms HDG on almost every way. It has a higher Treynor and (less negative) Information Ratios, smaller residual risk, and less negative alpha. HDG delivered weaker active management relative to SPY."
   ]
  },
  {
   "cell_type": "markdown",
   "id": "3b895a4c",
   "metadata": {},
   "source": [
    "#### ML series, although similar in β, exhibit worse alpha and information ratios, implying they did not replicate HFRI’s positive value-added component. HDG and QAI capture the broad risk characteristics, while HFRI remains superior in overall performance."
   ]
  },
  {
   "cell_type": "markdown",
   "id": "3d33d9ed",
   "metadata": {},
   "source": [
    "## Correlation Matrix of the Funds and SPY"
   ]
  },
  {
   "cell_type": "code",
   "execution_count": 69,
   "id": "df75bd9b",
   "metadata": {},
   "outputs": [
    {
     "data": {
      "image/png": "[encoded data removed]",
      "text/plain": [
       "<Figure size 1500x1000 with 2 Axes>"
      ]
     },
     "metadata": {},
     "output_type": "display_data"
    }
   ],
   "source": [
    "corr = hedge_fund_series.drop(columns=['date']).assign(SPY = merrill_factors['SPY US Equity']).corr()\n",
    "np.fill_diagonal(corr.values,np.nan)\n",
    "plt.figure(figsize=(15, 10)); sns.heatmap(corr, annot=True); plt.show()"
   ]
  },
  {
   "cell_type": "markdown",
   "id": "e6624960",
   "metadata": {},
   "source": [
    "#### QAI exhibits the lowest correlations with the other funds. In contrast, the ML series are highly correlated with each other, reflecting they may be similar strategies. Notably, HDG closely tracks both MLEIFCTR and MLEIFCTX, showing alignment in their return structure."
   ]
  },
  {
   "cell_type": "markdown",
   "id": "aff93a0b",
   "metadata": {},
   "source": [
    "## Regression of HFRI to Merrill Factors"
   ]
  },
  {
   "cell_type": "code",
   "execution_count": 70,
   "id": "53c27921",
   "metadata": {},
   "outputs": [
    {
     "data": {
      "text/plain": [
       "const            0.001149\n",
       "SPY US Equity    0.043503\n",
       "USGG3M Index     0.324931\n",
       "EEM US Equity    0.085564\n",
       "EFA US Equity    0.073994\n",
       "EUO US Equity    0.029614\n",
       "IWM US Equity    0.145824\n",
       "dtype: float64"
      ]
     },
     "execution_count": 70,
     "metadata": {},
     "output_type": "execute_result"
    }
   ],
   "source": [
    "df = pd.concat([hedge_fund_series['HFRIFWI Index'], merrill_factors], axis=1).dropna()\n",
    "X = sm.add_constant(df[merrill_factors.columns]).drop(columns=['Unnamed: 0']) # Adds a col of 1s to include an intercept in the model, i.e. alpha\n",
    "y = df['HFRIFWI Index']\n",
    "model = sm.OLS(y, X).fit()\n",
    "tracking_error = model.resid.std()\n",
    "r_square = model.rsquared\n",
    "model.params"
   ]
  },
  {
   "cell_type": "code",
   "execution_count": 71,
   "id": "ac320254",
   "metadata": {},
   "outputs": [
    {
     "data": {
      "text/html": [
       "<div>\n",
       "<style scoped>\n",
       "    .dataframe tbody tr th:only-of-type {\n",
       "        vertical-align: middle;\n",
       "    }\n",
       "\n",
       "    .dataframe tbody tr th {\n",
       "        vertical-align: top;\n",
       "    }\n",
       "\n",
       "    .dataframe thead th {\n",
       "        text-align: right;\n",
       "    }\n",
       "</style>\n",
       "<table border=\"1\" class=\"dataframe\">\n",
       "  <thead>\n",
       "    <tr style=\"text-align: right;\">\n",
       "      <th></th>\n",
       "      <th>Tracking Error</th>\n",
       "      <th>R-Squared</th>\n",
       "      <th>Intercept</th>\n",
       "      <th>Beta to SPY</th>\n",
       "      <th>Beta to USGG3M</th>\n",
       "      <th>Beta to EEM US</th>\n",
       "      <th>Beta to EFA US</th>\n",
       "      <th>Beta to EUO US</th>\n",
       "      <th>Beta to IWM US</th>\n",
       "      <th>Residual Vol</th>\n",
       "    </tr>\n",
       "  </thead>\n",
       "  <tbody>\n",
       "    <tr>\n",
       "      <th>0</th>\n",
       "      <td>0.006732</td>\n",
       "      <td>0.842694</td>\n",
       "      <td>0.001149</td>\n",
       "      <td>0.043503</td>\n",
       "      <td>0.324931</td>\n",
       "      <td>0.085564</td>\n",
       "      <td>0.073994</td>\n",
       "      <td>0.029614</td>\n",
       "      <td>0.145824</td>\n",
       "      <td>0.02332</td>\n",
       "    </tr>\n",
       "  </tbody>\n",
       "</table>\n",
       "</div>"
      ],
      "text/plain": [
       "   Tracking Error  R-Squared  Intercept  Beta to SPY  Beta to USGG3M  \\\n",
       "0        0.006732   0.842694   0.001149     0.043503        0.324931   \n",
       "\n",
       "   Beta to EEM US  Beta to EFA US  Beta to EUO US  Beta to IWM US  \\\n",
       "0        0.085564        0.073994        0.029614        0.145824   \n",
       "\n",
       "   Residual Vol  \n",
       "0       0.02332  "
      ]
     },
     "execution_count": 71,
     "metadata": {},
     "output_type": "execute_result"
    }
   ],
   "source": [
    "pd.DataFrame(\n",
    "    {\n",
    "        'Tracking Error': [tracking_error],\n",
    "        'R-Squared': [r_square],\n",
    "        'Intercept': [model.params[\"const\"]],\n",
    "        'Beta to SPY': [model.params[\"SPY US Equity\"]],\n",
    "        'Beta to USGG3M': [model.params[\"USGG3M Index\"]],\n",
    "        'Beta to EEM US': [model.params[\"EEM US Equity\"]],\n",
    "        'Beta to EFA US': [model.params[\"EFA US Equity\"]],\n",
    "        'Beta to EUO US': [model.params[\"EUO US Equity\"]],\n",
    "        'Beta to IWM US': [model.params[\"IWM US Equity\"]],\n",
    "        'Residual Vol': [model.resid.std()*np.sqrt(12)]\n",
    "    }\n",
    ")"
   ]
  },
  {
   "cell_type": "markdown",
   "id": "5f6ccb98",
   "metadata": {},
   "source": [
    "#### All the betas are positive, which means that we do not require any short positions. The betas range from approximately 0.04 to 0.32, indicating that we do not need large positions to replicate the HFRI Index."
   ]
  },
  {
   "cell_type": "markdown",
   "id": "ef068eea",
   "metadata": {},
   "source": [
    "## Rolling Regression and OOS Performance"
   ]
  },
  {
   "cell_type": "code",
   "execution_count": 72,
   "id": "299fceeb",
   "metadata": {},
   "outputs": [],
   "source": [
    "df = pd.concat([hedge_fund_series['HFRIFWI Index'], merrill_factors], axis=1).dropna()\n",
    "X = sm.add_constant(df[merrill_factors.columns]).drop(columns=['Unnamed: 0']) # Adds a col of 1s to include an intercept in the model, i.e. alpha\n",
    "y = df['HFRIFWI Index']"
   ]
  },
  {
   "cell_type": "code",
   "execution_count": 73,
   "id": "b5383c1b",
   "metadata": {},
   "outputs": [],
   "source": [
    "preds = []  # store OOS predictions\n",
    "dates = []  # store prediction dates\n",
    "\n",
    "for i in range(len(df) - 60):\n",
    "    df_train = X.iloc[i:i+60].astype(float)\n",
    "    df_test = X.iloc[i+60].astype(float)\n",
    "    yy = y.iloc[i:i+60].astype(float)\n",
    "    # Fit on TRAIN, then predict on the immediate next period\n",
    "    model = sm.OLS(yy, df_train).fit()\n",
    "    # Dot product for scalar: np.dot of DataFrame row (Series) and params\n",
    "    y_hat = float(np.dot(df_test.values, model.params.values))\n",
    "    preds.append(y_hat)\n",
    "    dates.append(X.index[i+60])"
   ]
  },
  {
   "cell_type": "code",
   "execution_count": 74,
   "id": "8c0e4b8b",
   "metadata": {},
   "outputs": [
    {
     "name": "stdout",
     "output_type": "stream",
     "text": [
      "Out-of-sample R²: 0.812\n",
      "Tracking Error (monthly): 0.0079\n"
     ]
    }
   ],
   "source": [
    "# Build OOS replication series\n",
    "replication = pd.Series(preds, index=dates, name='HFRI_OOS_Replication')\n",
    "\n",
    "# Combine with actual returns for comparison\n",
    "oos_df = pd.concat([y, replication], axis=1).dropna()\n",
    "oos_df.columns = ['HFRI_Actual', 'HFRI_Replication']\n",
    "\n",
    "# Evaluate replication performance\n",
    "r2_oos = oos_df.corr().iloc[0, 1] ** 2\n",
    "te = np.std(oos_df['HFRI_Actual'] - oos_df['HFRI_Replication'])\n",
    "\n",
    "print(f\"Out-of-sample R²: {r2_oos:.3f}\")\n",
    "print(f\"Tracking Error (monthly): {te:.4f}\")"
   ]
  },
  {
   "cell_type": "code",
   "execution_count": 75,
   "id": "b2887b08",
   "metadata": {},
   "outputs": [
    {
     "data": {
      "text/html": [
       "<div>\n",
       "<style scoped>\n",
       "    .dataframe tbody tr th:only-of-type {\n",
       "        vertical-align: middle;\n",
       "    }\n",
       "\n",
       "    .dataframe tbody tr th {\n",
       "        vertical-align: top;\n",
       "    }\n",
       "\n",
       "    .dataframe thead th {\n",
       "        text-align: right;\n",
       "    }\n",
       "</style>\n",
       "<table border=\"1\" class=\"dataframe\">\n",
       "  <thead>\n",
       "    <tr style=\"text-align: right;\">\n",
       "      <th></th>\n",
       "      <th>HFRI_Actual</th>\n",
       "      <th>HFRI_Replication</th>\n",
       "    </tr>\n",
       "  </thead>\n",
       "  <tbody>\n",
       "    <tr>\n",
       "      <th>HFRI_Actual</th>\n",
       "      <td>1.000000</td>\n",
       "      <td>0.901319</td>\n",
       "    </tr>\n",
       "    <tr>\n",
       "      <th>HFRI_Replication</th>\n",
       "      <td>0.901319</td>\n",
       "      <td>1.000000</td>\n",
       "    </tr>\n",
       "  </tbody>\n",
       "</table>\n",
       "</div>"
      ],
      "text/plain": [
       "                  HFRI_Actual  HFRI_Replication\n",
       "HFRI_Actual          1.000000          0.901319\n",
       "HFRI_Replication     0.901319          1.000000"
      ]
     },
     "execution_count": 75,
     "metadata": {},
     "output_type": "execute_result"
    }
   ],
   "source": [
    "oos_df.corr()"
   ]
  }
 ],
 "metadata": {
  "kernelspec": {
   "display_name": "base",
   "language": "python",
   "name": "python3"
  },
  "language_info": {
   "codemirror_mode": {
    "name": "ipython",
    "version": 3
   },
   "file_extension": ".py",
   "mimetype": "text/x-python",
   "name": "python",
   "nbconvert_exporter": "python",
   "pygments_lexer": "ipython3",
   "version": "3.12.2"
  }
 },
 "nbformat": 4,
 "nbformat_minor": 5
}
