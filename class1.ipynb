{
 "cells": [
  {
   "cell_type": "code",
   "execution_count": null,
   "id": "bf6e0a64",
   "metadata": {},
   "outputs": [],
   "source": [
    "import pandas as pd\n",
    "import numpy as np\n",
    "import matplotlib.pyplot as plt"
   ]
  },
  {
   "cell_type": "code",
   "execution_count": null,
   "id": "7d01d89b",
   "metadata": {},
   "outputs": [],
   "source": [
    "data = pd.read_excel('spx_returns_weekly.xlsx', sheet_name=2)"
   ]
  },
  {
   "cell_type": "code",
   "execution_count": null,
   "id": "cde5661a",
   "metadata": {},
   "outputs": [],
   "source": [
    "mean_returns = data.select_dtypes(include=[np.number]).mean().head(10) * 52\n",
    "volatility = data.select_dtypes(include=[np.number]).std().head(10) * np.sqrt(52)\n",
    "sharpe_ratio = mean_returns/volatility\n",
    "skewness = data.select_dtypes(include=[np.number]).skew().head(10)\n",
    "kurtosis = data.select_dtypes(include=[np.number]).kurt().head(10)\n",
    "max_drawdown = data.select_dtypes(include=[np.number]).apply(\n",
    "    lambda x: (x.cummax() - x).max()\n",
    ").head(10)"
   ]
  },
  {
   "cell_type": "code",
   "execution_count": null,
   "id": "446baa01",
   "metadata": {},
   "outputs": [],
   "source": [
    "WEEKS_PER_YEAR: int = 52\n",
    "\n",
    "numeric_columns = data.select_dtypes(include=[np.number]).columns[:10]\n",
    "weekly_returns = data[numeric_columns]\n",
    "\n",
    "geo_mean_returns = np.expm1(np.log1p(weekly_returns).mean() * WEEKS_PER_YEAR)\n",
    "geo_volatility = np.sqrt(np.log1p(weekly_returns).var() * WEEKS_PER_YEAR)"
   ]
  },
  {
   "cell_type": "code",
   "execution_count": null,
   "id": "57cc8bd6",
   "metadata": {},
   "outputs": [],
   "source": [
    "summary_df = pd.DataFrame({\n",
    "    'Mean Return': mean_returns,\n",
    "    'Volatility': volatility,\n",
    "    'Sharpe Ratio': sharpe_ratio,\n",
    "    'Skewness': skewness,\n",
    "    'Kurtosis': kurtosis,\n",
    "    'Max Drawdown': max_drawdown,\n",
    "    'Geo Mean Return': geo_mean_returns,\n",
    "    'Geo Volatility': geo_volatility\n",
    "})\n",
    "summary_df\n"
   ]
  }
 ],
 "metadata": {
  "kernelspec": {
   "display_name": "base",
   "language": "python",
   "name": "python3"
  },
  "language_info": {
   "codemirror_mode": {
    "name": "ipython",
    "version": 3
   },
   "file_extension": ".py",
   "mimetype": "text/x-python",
   "name": "python",
   "nbconvert_exporter": "python",
   "pygments_lexer": "ipython3",
   "version": "3.12.2"
  }
 },
 "nbformat": 4,
 "nbformat_minor": 5
}
