{
 "cells": [
  {
   "cell_type": "code",
   "execution_count": 1,
   "id": "379c97d3",
   "metadata": {},
   "outputs": [],
   "source": [
    "import pandas as pd\n",
    "\n",
    "import numpy as np\n",
    "\n",
    "import matplotlib.pyplot as plt"
   ]
  },
  {
   "cell_type": "markdown",
   "id": "b3b549ee",
   "metadata": {},
   "source": [
    "## 2. Portfolio Allocation"
   ]
  },
  {
   "cell_type": "code",
   "execution_count": 5,
   "id": "1f22a2cf",
   "metadata": {},
   "outputs": [],
   "source": [
    "data = pd.read_excel('midterm_1_data.xlsx', sheet_name=0)"
   ]
  },
  {
   "cell_type": "code",
   "execution_count": 32,
   "id": "40c59ef1",
   "metadata": {},
   "outputs": [],
   "source": [
    "insample = data[data['date'] <= '2018-12-31']\n",
    "outsample = data[data['date'] > '2018-12-31']"
   ]
  },
  {
   "cell_type": "code",
   "execution_count": 33,
   "id": "934a9182",
   "metadata": {},
   "outputs": [
    {
     "data": {
      "text/plain": [
       "array([-0.12783639, -0.04057608,  0.1313329 ,  0.02596806,  0.13040776,\n",
       "       -0.01392883,  0.35267044,  0.03054057,  0.13791739,  0.16350106,\n",
       "        0.03006613,  0.29022983,  0.30620939, -0.41650224])"
      ]
     },
     "execution_count": 33,
     "metadata": {},
     "output_type": "execute_result"
    }
   ],
   "source": [
    "mean_returns = insample.select_dtypes(include=np.number).mean().values\n",
    "cov_matrix = insample.select_dtypes(include=np.number).cov().values\n",
    "n_assets = mean_returns.shape[0]\n",
    "ones = np.ones(n_assets)\n",
    "\n",
    "## Traditional Tangency Portfolio\n",
    "inv_cov_matrix = np.linalg.inv(cov_matrix)\n",
    "weights = inv_cov_matrix @ mean_returns\n",
    "weights = weights / (weights @ ones)\n",
    "\n",
    "weights"
   ]
  },
  {
   "cell_type": "code",
   "execution_count": 35,
   "id": "48839d6f",
   "metadata": {},
   "outputs": [
    {
     "data": {
      "text/plain": [
       "array([-0.01470633,  0.03630996,  0.10916195,  0.05054455,  0.09919031,\n",
       "        0.05369143,  0.21494889,  0.03489638,  0.08996958,  0.07169577,\n",
       "        0.03651137,  0.1898452 ,  0.18455796, -0.15661703])"
      ]
     },
     "execution_count": 35,
     "metadata": {},
     "output_type": "execute_result"
    }
   ],
   "source": [
    "# Create a regularized covariance matrix by halving all off-diagonal elements\n",
    "reg_cov_matrix = cov_matrix.copy()\n",
    "for i in range(n_assets):\n",
    "    for j in range(n_assets):\n",
    "        if i != j:\n",
    "            reg_cov_matrix[i, j] = reg_cov_matrix[i, j] / 2\n",
    "\n",
    "# Regularized tangency portfolio weights\n",
    "inv_reg_cov_matrix = np.linalg.inv(reg_cov_matrix)\n",
    "reg_weights = inv_reg_cov_matrix @ mean_returns\n",
    "reg_weights = reg_weights / (reg_weights @ ones)\n",
    "\n",
    "reg_weights\n"
   ]
  },
  {
   "cell_type": "code",
   "execution_count": 36,
   "id": "5affaa10",
   "metadata": {},
   "outputs": [
    {
     "data": {
      "text/plain": [
       "(2.1976870785297886, 1.3426467125901393)"
      ]
     },
     "execution_count": 36,
     "metadata": {},
     "output_type": "execute_result"
    }
   ],
   "source": [
    "traditional_abs_sum = np.sum(np.abs(weights))\n",
    "regularized_abs_sum = np.sum(np.abs(reg_weights))\n",
    "traditional_abs_sum, regularized_abs_sum"
   ]
  },
  {
   "cell_type": "code",
   "execution_count": 44,
   "id": "71a185ba",
   "metadata": {},
   "outputs": [
    {
     "data": {
      "text/html": [
       "<div>\n",
       "<style scoped>\n",
       "    .dataframe tbody tr th:only-of-type {\n",
       "        vertical-align: middle;\n",
       "    }\n",
       "\n",
       "    .dataframe tbody tr th {\n",
       "        vertical-align: top;\n",
       "    }\n",
       "\n",
       "    .dataframe thead th {\n",
       "        text-align: right;\n",
       "    }\n",
       "</style>\n",
       "<table border=\"1\" class=\"dataframe\">\n",
       "  <thead>\n",
       "    <tr style=\"text-align: right;\">\n",
       "      <th></th>\n",
       "      <th>Annualized Mean Return</th>\n",
       "      <th>Annualized Volatility</th>\n",
       "      <th>Sharpe Ratio</th>\n",
       "    </tr>\n",
       "  </thead>\n",
       "  <tbody>\n",
       "    <tr>\n",
       "      <th>Traditional</th>\n",
       "      <td>0.348256</td>\n",
       "      <td>0.134053</td>\n",
       "      <td>2.597896</td>\n",
       "    </tr>\n",
       "    <tr>\n",
       "      <th>Regularized</th>\n",
       "      <td>0.276599</td>\n",
       "      <td>0.114184</td>\n",
       "      <td>2.422392</td>\n",
       "    </tr>\n",
       "  </tbody>\n",
       "</table>\n",
       "</div>"
      ],
      "text/plain": [
       "             Annualized Mean Return  Annualized Volatility  Sharpe Ratio\n",
       "Traditional                0.348256               0.134053      2.597896\n",
       "Regularized                0.276599               0.114184      2.422392"
      ]
     },
     "execution_count": 44,
     "metadata": {},
     "output_type": "execute_result"
    }
   ],
   "source": [
    "# Calculate annualized mean returns, volatility, and Sharpe ratios for both portfolios (traditional and regularized)\n",
    "# Assume 12 periods per year for annualization\n",
    "periods_per_year = 12\n",
    "\n",
    "# Compute realized (in-sample) returns from data (portfolio returns)\n",
    "returns = insample.select_dtypes(include=np.number).values\n",
    "\n",
    "# Traditional portfolio\n",
    "trad_portf_ret = returns @ weights\n",
    "trad_ann_mean = trad_portf_ret.mean() * periods_per_year\n",
    "trad_ann_vol = trad_portf_ret.std(ddof=1) * (periods_per_year ** 0.5)\n",
    "trad_sharpe = trad_ann_mean / trad_ann_vol\n",
    "\n",
    "# Regularized portfolio\n",
    "reg_portf_ret = returns @ reg_weights\n",
    "reg_ann_mean = reg_portf_ret.mean() * periods_per_year\n",
    "reg_ann_vol = reg_portf_ret.std(ddof=1) * (periods_per_year ** 0.5)\n",
    "reg_sharpe = reg_ann_mean / reg_ann_vol\n",
    "\n",
    "# Return results in a dataframe\n",
    "import pandas as pd\n",
    "\n",
    "results_df = pd.DataFrame({\n",
    "    \"Annualized Mean Return\": [trad_ann_mean, reg_ann_mean],\n",
    "    \"Annualized Volatility\": [trad_ann_vol, reg_ann_vol],\n",
    "    \"Sharpe Ratio\": [trad_sharpe, reg_sharpe]\n",
    "}, index=[\"Traditional\", \"Regularized\"])\n",
    "\n",
    "results_df\n"
   ]
  },
  {
   "cell_type": "code",
   "execution_count": 45,
   "id": "2db2a9cd",
   "metadata": {},
   "outputs": [
    {
     "data": {
      "text/html": [
       "<div>\n",
       "<style scoped>\n",
       "    .dataframe tbody tr th:only-of-type {\n",
       "        vertical-align: middle;\n",
       "    }\n",
       "\n",
       "    .dataframe tbody tr th {\n",
       "        vertical-align: top;\n",
       "    }\n",
       "\n",
       "    .dataframe thead th {\n",
       "        text-align: right;\n",
       "    }\n",
       "</style>\n",
       "<table border=\"1\" class=\"dataframe\">\n",
       "  <thead>\n",
       "    <tr style=\"text-align: right;\">\n",
       "      <th></th>\n",
       "      <th>Traditional</th>\n",
       "      <th>Regularized</th>\n",
       "    </tr>\n",
       "  </thead>\n",
       "  <tbody>\n",
       "    <tr>\n",
       "      <th>Return_-3</th>\n",
       "      <td>-0.016012</td>\n",
       "      <td>0.003227</td>\n",
       "    </tr>\n",
       "    <tr>\n",
       "      <th>Return_-2</th>\n",
       "      <td>0.101241</td>\n",
       "      <td>0.064626</td>\n",
       "    </tr>\n",
       "    <tr>\n",
       "      <th>Return_-1</th>\n",
       "      <td>-0.025162</td>\n",
       "      <td>-0.016477</td>\n",
       "    </tr>\n",
       "  </tbody>\n",
       "</table>\n",
       "</div>"
      ],
      "text/plain": [
       "           Traditional  Regularized\n",
       "Return_-3    -0.016012     0.003227\n",
       "Return_-2     0.101241     0.064626\n",
       "Return_-1    -0.025162    -0.016477"
      ]
     },
     "execution_count": 45,
     "metadata": {},
     "output_type": "execute_result"
    }
   ],
   "source": [
    "# Use the weights calculated in question (2.2) to produce portfolio returns out-of-sample\n",
    "# for both the Traditional and Regularized portfolio (from January 2019 onwards).\n",
    "# Report the last 3 returns of both portfolios in the out-of-sample (the traditional tangency portfolio and the regularized tangency portfolio)\n",
    "# in a DataFrame.\n",
    "\n",
    "# Compute out-of-sample returns for both portfolios\n",
    "out_sample_returns = outsample.select_dtypes(include=np.number).values\n",
    "traditional_oos_returns = out_sample_returns @ weights\n",
    "regularized_oos_returns = out_sample_returns @ reg_weights\n",
    "\n",
    "# Put the last 3 out-of-sample returns into a DataFrame\n",
    "import pandas as pd\n",
    "\n",
    "last_3_df = pd.DataFrame({\n",
    "    \"Traditional\": traditional_oos_returns[-3:],\n",
    "    \"Regularized\": regularized_oos_returns[-3:]\n",
    "}, index=[\"Return_-3\", \"Return_-2\", \"Return_-1\"])\n",
    "\n",
    "last_3_df\n"
   ]
  },
  {
   "cell_type": "code",
   "execution_count": null,
   "id": "bfe781b3",
   "metadata": {},
   "outputs": [
    {
     "data": {
      "text/html": [
       "<div>\n",
       "<style scoped>\n",
       "    .dataframe tbody tr th:only-of-type {\n",
       "        vertical-align: middle;\n",
       "    }\n",
       "\n",
       "    .dataframe tbody tr th {\n",
       "        vertical-align: top;\n",
       "    }\n",
       "\n",
       "    .dataframe thead th {\n",
       "        text-align: right;\n",
       "    }\n",
       "</style>\n",
       "<table border=\"1\" class=\"dataframe\">\n",
       "  <thead>\n",
       "    <tr style=\"text-align: right;\">\n",
       "      <th></th>\n",
       "      <th>Annualized Mean Return</th>\n",
       "      <th>Annualized Volatility</th>\n",
       "      <th>Sharpe Ratio</th>\n",
       "    </tr>\n",
       "  </thead>\n",
       "  <tbody>\n",
       "    <tr>\n",
       "      <th>Traditional</th>\n",
       "      <td>0.321558</td>\n",
       "      <td>0.222352</td>\n",
       "      <td>1.446167</td>\n",
       "    </tr>\n",
       "    <tr>\n",
       "      <th>Regularized</th>\n",
       "      <td>0.268686</td>\n",
       "      <td>0.176334</td>\n",
       "      <td>1.523729</td>\n",
       "    </tr>\n",
       "  </tbody>\n",
       "</table>\n",
       "</div>"
      ],
      "text/plain": [
       "             Annualized Mean Return  Annualized Volatility  Sharpe Ratio\n",
       "Traditional                0.321558               0.222352      1.446167\n",
       "Regularized                0.268686               0.176334      1.523729"
      ]
     },
     "execution_count": 47,
     "metadata": {},
     "output_type": "execute_result"
    }
   ],
   "source": [
    "# Report the annualized summary statistics (Mean, Vol, and Sharpe) of both portfolios in the out-of-sample.\n",
    "\n",
    "# Compute out-of-sample portfolio returns\n",
    "trad_oos_portf_ret = out_sample_returns @ weights\n",
    "reg_oos_portf_ret = out_sample_returns @ reg_weights\n",
    "\n",
    "# Annualized statistics\n",
    "trad_oos_mean = trad_oos_portf_ret.mean() * periods_per_year\n",
    "trad_oos_vol = trad_oos_portf_ret.std(ddof=1) * (periods_per_year ** 0.5)\n",
    "trad_oos_sharpe = trad_oos_mean / trad_oos_vol\n",
    "\n",
    "reg_oos_mean = reg_oos_portf_ret.mean() * periods_per_year\n",
    "reg_oos_vol = reg_oos_portf_ret.std(ddof=1) * (periods_per_year ** 0.5)\n",
    "reg_oos_sharpe = reg_oos_mean / reg_oos_vol\n",
    "\n",
    "oos_results = pd.DataFrame({\n",
    "    \"Annualized Mean Return\": [trad_oos_mean, reg_oos_mean],\n",
    "    \"Annualized Volatility\": [trad_oos_vol, reg_oos_vol],\n",
    "    \"Sharpe Ratio\": [trad_oos_sharpe, reg_oos_sharpe]\n",
    "}, index=[\"Traditional\", \"Regularized\"])\n",
    "\n",
    "oos_results"
   ]
  },
  {
   "cell_type": "code",
   "execution_count": 48,
   "id": "7dfe0d02",
   "metadata": {},
   "outputs": [
    {
     "name": "stdout",
     "output_type": "stream",
     "text": [
      "Out-of-sample Annualized Summary Statistics:\n"
     ]
    },
    {
     "data": {
      "text/html": [
       "<div>\n",
       "<style scoped>\n",
       "    .dataframe tbody tr th:only-of-type {\n",
       "        vertical-align: middle;\n",
       "    }\n",
       "\n",
       "    .dataframe tbody tr th {\n",
       "        vertical-align: top;\n",
       "    }\n",
       "\n",
       "    .dataframe thead th {\n",
       "        text-align: right;\n",
       "    }\n",
       "</style>\n",
       "<table border=\"1\" class=\"dataframe\">\n",
       "  <thead>\n",
       "    <tr style=\"text-align: right;\">\n",
       "      <th></th>\n",
       "      <th>Annualized Mean Return</th>\n",
       "      <th>Annualized Volatility</th>\n",
       "      <th>Sharpe Ratio</th>\n",
       "    </tr>\n",
       "  </thead>\n",
       "  <tbody>\n",
       "    <tr>\n",
       "      <th>Traditional</th>\n",
       "      <td>0.321558</td>\n",
       "      <td>0.222352</td>\n",
       "      <td>1.446167</td>\n",
       "    </tr>\n",
       "    <tr>\n",
       "      <th>Regularized</th>\n",
       "      <td>0.268686</td>\n",
       "      <td>0.176334</td>\n",
       "      <td>1.523729</td>\n",
       "    </tr>\n",
       "  </tbody>\n",
       "</table>\n",
       "</div>"
      ],
      "text/plain": [
       "             Annualized Mean Return  Annualized Volatility  Sharpe Ratio\n",
       "Traditional                0.321558               0.222352      1.446167\n",
       "Regularized                0.268686               0.176334      1.523729"
      ]
     },
     "metadata": {},
     "output_type": "display_data"
    },
    {
     "name": "stdout",
     "output_type": "stream",
     "text": [
      "\n",
      "The Regularized portfolio has the higher out-of-sample Sharpe Ratio, meaning it achieved better risk-adjusted returns in the out-of-sample period.\n",
      "\n",
      "Interpretation:\n",
      "A higher Sharpe Ratio indicates better risk-adjusted performance. The difference in Sharpe ratios between the traditional and regularized portfolios could be due to the regularization technique, which generally shrinks portfolio weights closer to zero or distributes more evenly. This reduces the exposure to estimation error and can help control risk, but might also reduce exposure to high-return assets, potentially lowering mean returns.\n",
      "As observed in (2.2), the sum of absolute weights is lower for the regularized portfolio, indicating less leverage and less extreme positions. This usually results in lower volatility but may also reduce returns if the true optimal weights are far from zero.\n",
      "Ultimately, regularization tends to trade off some potential return for more stable risk characteristics, which may or may not lead to a higher Sharpe ratio, depending on the data and estimation error present.\n"
     ]
    }
   ],
   "source": [
    "# Compare and interpret the risk-adjusted performance of the two portfolios in the out-of-sample period\n",
    "\n",
    "print(\"Out-of-sample Annualized Summary Statistics:\")\n",
    "display(oos_results)\n",
    "\n",
    "better_portfolio = \"Traditional\" if oos_results.loc[\"Traditional\", \"Sharpe Ratio\"] > oos_results.loc[\"Regularized\", \"Sharpe Ratio\"] else \"Regularized\"\n",
    "print(f\"\\nThe {better_portfolio} portfolio has the higher out-of-sample Sharpe Ratio, meaning it achieved better risk-adjusted returns in the out-of-sample period.\")\n",
    "\n",
    "print(\"\\nInterpretation:\")\n",
    "print(\"A higher Sharpe Ratio indicates better risk-adjusted performance. The difference in Sharpe ratios between the traditional and regularized portfolios could be due to the regularization technique, which generally shrinks portfolio weights closer to zero or distributes more evenly. This reduces the exposure to estimation error and can help control risk, but might also reduce exposure to high-return assets, potentially lowering mean returns.\")\n",
    "print(\"As observed in (2.2), the sum of absolute weights is lower for the regularized portfolio, indicating less leverage and less extreme positions. This usually results in lower volatility but may also reduce returns if the true optimal weights are far from zero.\")\n",
    "print(\"Ultimately, regularization tends to trade off some potential return for more stable risk characteristics, which may or may not lead to a higher Sharpe ratio, depending on the data and estimation error present.\")\n"
   ]
  },
  {
   "cell_type": "markdown",
   "id": "1048b0eb",
   "metadata": {},
   "source": [
    "## 3. Hedging and Replication"
   ]
  },
  {
   "cell_type": "code",
   "execution_count": 49,
   "id": "cb9b47b8",
   "metadata": {},
   "outputs": [],
   "source": [
    "data = pd.read_excel('midterm_1_data.xlsx', sheet_name=1)"
   ]
  },
  {
   "cell_type": "code",
   "execution_count": null,
   "id": "5a978c97",
   "metadata": {},
   "outputs": [
    {
     "data": {
      "text/plain": [
       "0     2011-08-31\n",
       "1     2011-09-30\n",
       "2     2011-10-31\n",
       "3     2011-11-30\n",
       "4     2011-12-31\n",
       "         ...    \n",
       "153   2024-05-31\n",
       "154   2024-06-30\n",
       "155   2024-07-31\n",
       "156   2024-08-31\n",
       "157   2024-09-30\n",
       "Name: date, Length: 158, dtype: datetime64[ns]"
      ]
     },
     "execution_count": 52,
     "metadata": {},
     "output_type": "execute_result"
    }
   ],
   "source": []
  },
  {
   "cell_type": "code",
   "execution_count": 63,
   "id": "cbdcbac6",
   "metadata": {},
   "outputs": [
    {
     "data": {
      "text/html": [
       "<div>\n",
       "<style scoped>\n",
       "    .dataframe tbody tr th:only-of-type {\n",
       "        vertical-align: middle;\n",
       "    }\n",
       "\n",
       "    .dataframe tbody tr th {\n",
       "        vertical-align: top;\n",
       "    }\n",
       "\n",
       "    .dataframe thead th {\n",
       "        text-align: right;\n",
       "    }\n",
       "</style>\n",
       "<table border=\"1\" class=\"dataframe\">\n",
       "  <thead>\n",
       "    <tr style=\"text-align: right;\">\n",
       "      <th></th>\n",
       "      <th>date</th>\n",
       "      <th>HDG US Equity</th>\n",
       "      <th>QAI US Equity</th>\n",
       "      <th>SPY US Equity</th>\n",
       "      <th>EEM US Equity</th>\n",
       "      <th>EFA US Equity</th>\n",
       "      <th>EUO US Equity</th>\n",
       "      <th>IWM US Equity</th>\n",
       "      <th>SPXU US Equity</th>\n",
       "      <th>UPRO US Equity</th>\n",
       "    </tr>\n",
       "  </thead>\n",
       "  <tbody>\n",
       "    <tr>\n",
       "      <th>0</th>\n",
       "      <td>2011-08-31</td>\n",
       "      <td>-0.027036</td>\n",
       "      <td>-0.006489</td>\n",
       "      <td>-0.054976</td>\n",
       "      <td>-0.092549</td>\n",
       "      <td>-0.087549</td>\n",
       "      <td>-0.005889</td>\n",
       "      <td>-0.088913</td>\n",
       "      <td>0.056476</td>\n",
       "      <td>-0.210854</td>\n",
       "    </tr>\n",
       "    <tr>\n",
       "      <th>1</th>\n",
       "      <td>2011-09-30</td>\n",
       "      <td>-0.032466</td>\n",
       "      <td>-0.022141</td>\n",
       "      <td>-0.069420</td>\n",
       "      <td>-0.179063</td>\n",
       "      <td>-0.108082</td>\n",
       "      <td>0.142180</td>\n",
       "      <td>-0.111505</td>\n",
       "      <td>0.190006</td>\n",
       "      <td>-0.207003</td>\n",
       "    </tr>\n",
       "    <tr>\n",
       "      <th>2</th>\n",
       "      <td>2011-10-31</td>\n",
       "      <td>0.050531</td>\n",
       "      <td>0.025239</td>\n",
       "      <td>0.109147</td>\n",
       "      <td>0.162986</td>\n",
       "      <td>0.096274</td>\n",
       "      <td>-0.069502</td>\n",
       "      <td>0.151011</td>\n",
       "      <td>-0.298828</td>\n",
       "      <td>0.326066</td>\n",
       "    </tr>\n",
       "    <tr>\n",
       "      <th>3</th>\n",
       "      <td>2011-11-30</td>\n",
       "      <td>-0.028608</td>\n",
       "      <td>-0.007964</td>\n",
       "      <td>-0.004064</td>\n",
       "      <td>-0.019724</td>\n",
       "      <td>-0.021765</td>\n",
       "      <td>0.054627</td>\n",
       "      <td>-0.003784</td>\n",
       "      <td>-0.035515</td>\n",
       "      <td>-0.033502</td>\n",
       "    </tr>\n",
       "    <tr>\n",
       "      <th>4</th>\n",
       "      <td>2011-12-31</td>\n",
       "      <td>0.012875</td>\n",
       "      <td>0.001822</td>\n",
       "      <td>0.010449</td>\n",
       "      <td>-0.042649</td>\n",
       "      <td>-0.021744</td>\n",
       "      <td>0.075581</td>\n",
       "      <td>0.005144</td>\n",
       "      <td>-0.051986</td>\n",
       "      <td>0.022939</td>\n",
       "    </tr>\n",
       "    <tr>\n",
       "      <th>...</th>\n",
       "      <td>...</td>\n",
       "      <td>...</td>\n",
       "      <td>...</td>\n",
       "      <td>...</td>\n",
       "      <td>...</td>\n",
       "      <td>...</td>\n",
       "      <td>...</td>\n",
       "      <td>...</td>\n",
       "      <td>...</td>\n",
       "      <td>...</td>\n",
       "    </tr>\n",
       "    <tr>\n",
       "      <th>153</th>\n",
       "      <td>2024-05-31</td>\n",
       "      <td>0.011225</td>\n",
       "      <td>0.013480</td>\n",
       "      <td>0.050580</td>\n",
       "      <td>0.019517</td>\n",
       "      <td>0.050603</td>\n",
       "      <td>-0.028355</td>\n",
       "      <td>0.050383</td>\n",
       "      <td>-0.125918</td>\n",
       "      <td>0.142834</td>\n",
       "    </tr>\n",
       "    <tr>\n",
       "      <th>154</th>\n",
       "      <td>2024-06-30</td>\n",
       "      <td>-0.001986</td>\n",
       "      <td>0.003188</td>\n",
       "      <td>0.035280</td>\n",
       "      <td>0.026176</td>\n",
       "      <td>-0.018270</td>\n",
       "      <td>0.032101</td>\n",
       "      <td>-0.011243</td>\n",
       "      <td>-0.087119</td>\n",
       "      <td>0.098225</td>\n",
       "    </tr>\n",
       "    <tr>\n",
       "      <th>155</th>\n",
       "      <td>2024-07-31</td>\n",
       "      <td>0.024381</td>\n",
       "      <td>0.011279</td>\n",
       "      <td>0.012109</td>\n",
       "      <td>0.008453</td>\n",
       "      <td>0.025916</td>\n",
       "      <td>-0.016610</td>\n",
       "      <td>0.103356</td>\n",
       "      <td>-0.026368</td>\n",
       "      <td>0.018089</td>\n",
       "    </tr>\n",
       "    <tr>\n",
       "      <th>156</th>\n",
       "      <td>2024-08-31</td>\n",
       "      <td>-0.002413</td>\n",
       "      <td>0.007648</td>\n",
       "      <td>0.023365</td>\n",
       "      <td>0.009779</td>\n",
       "      <td>0.032603</td>\n",
       "      <td>-0.035513</td>\n",
       "      <td>-0.016885</td>\n",
       "      <td>-0.068428</td>\n",
       "      <td>0.050748</td>\n",
       "    </tr>\n",
       "    <tr>\n",
       "      <th>157</th>\n",
       "      <td>2024-09-30</td>\n",
       "      <td>0.007448</td>\n",
       "      <td>0.014548</td>\n",
       "      <td>0.021004</td>\n",
       "      <td>0.057413</td>\n",
       "      <td>0.007833</td>\n",
       "      <td>-0.009063</td>\n",
       "      <td>0.007107</td>\n",
       "      <td>-0.056016</td>\n",
       "      <td>0.051244</td>\n",
       "    </tr>\n",
       "  </tbody>\n",
       "</table>\n",
       "<p>158 rows × 10 columns</p>\n",
       "</div>"
      ],
      "text/plain": [
       "          date  HDG US Equity  QAI US Equity  SPY US Equity  EEM US Equity  \\\n",
       "0   2011-08-31      -0.027036      -0.006489      -0.054976      -0.092549   \n",
       "1   2011-09-30      -0.032466      -0.022141      -0.069420      -0.179063   \n",
       "2   2011-10-31       0.050531       0.025239       0.109147       0.162986   \n",
       "3   2011-11-30      -0.028608      -0.007964      -0.004064      -0.019724   \n",
       "4   2011-12-31       0.012875       0.001822       0.010449      -0.042649   \n",
       "..         ...            ...            ...            ...            ...   \n",
       "153 2024-05-31       0.011225       0.013480       0.050580       0.019517   \n",
       "154 2024-06-30      -0.001986       0.003188       0.035280       0.026176   \n",
       "155 2024-07-31       0.024381       0.011279       0.012109       0.008453   \n",
       "156 2024-08-31      -0.002413       0.007648       0.023365       0.009779   \n",
       "157 2024-09-30       0.007448       0.014548       0.021004       0.057413   \n",
       "\n",
       "     EFA US Equity  EUO US Equity  IWM US Equity  SPXU US Equity  \\\n",
       "0        -0.087549      -0.005889      -0.088913        0.056476   \n",
       "1        -0.108082       0.142180      -0.111505        0.190006   \n",
       "2         0.096274      -0.069502       0.151011       -0.298828   \n",
       "3        -0.021765       0.054627      -0.003784       -0.035515   \n",
       "4        -0.021744       0.075581       0.005144       -0.051986   \n",
       "..             ...            ...            ...             ...   \n",
       "153       0.050603      -0.028355       0.050383       -0.125918   \n",
       "154      -0.018270       0.032101      -0.011243       -0.087119   \n",
       "155       0.025916      -0.016610       0.103356       -0.026368   \n",
       "156       0.032603      -0.035513      -0.016885       -0.068428   \n",
       "157       0.007833      -0.009063       0.007107       -0.056016   \n",
       "\n",
       "     UPRO US Equity  \n",
       "0         -0.210854  \n",
       "1         -0.207003  \n",
       "2          0.326066  \n",
       "3         -0.033502  \n",
       "4          0.022939  \n",
       "..              ...  \n",
       "153        0.142834  \n",
       "154        0.098225  \n",
       "155        0.018089  \n",
       "156        0.050748  \n",
       "157        0.051244  \n",
       "\n",
       "[158 rows x 10 columns]"
      ]
     },
     "execution_count": 63,
     "metadata": {},
     "output_type": "execute_result"
    }
   ],
   "source": [
    "data"
   ]
  },
  {
   "cell_type": "code",
   "execution_count": 64,
   "id": "659b64f0",
   "metadata": {},
   "outputs": [
    {
     "name": "stdout",
     "output_type": "stream",
     "text": [
      "                            OLS Regression Results                            \n",
      "==============================================================================\n",
      "Dep. Variable:          HDG US Equity   R-squared:                       0.913\n",
      "Model:                            OLS   Adj. R-squared:                  0.909\n",
      "Method:                 Least Squares   F-statistic:                     224.5\n",
      "Date:                Sun, 19 Oct 2025   Prob (F-statistic):           3.99e-76\n",
      "Time:                        14:12:46   Log-Likelihood:                 614.19\n",
      "No. Observations:                 158   AIC:                            -1212.\n",
      "Df Residuals:                     150   BIC:                            -1188.\n",
      "Df Model:                           7                                         \n",
      "Covariance Type:            nonrobust                                         \n",
      "==================================================================================\n",
      "                     coef    std err          t      P>|t|      [0.025      0.975]\n",
      "----------------------------------------------------------------------------------\n",
      "const             -0.0010      0.001     -1.856      0.065      -0.002    6.54e-05\n",
      "QAI US Equity      0.1515      0.069      2.188      0.030       0.015       0.288\n",
      "SPY US Equity      0.5154      0.249      2.072      0.040       0.024       1.007\n",
      "EEM US Equity      0.0448      0.015      3.024      0.003       0.016       0.074\n",
      "UPRO US Equity    -0.1402      0.065     -2.169      0.032      -0.268      -0.012\n",
      "SPXU US Equity     0.0327      0.021      1.571      0.118      -0.008       0.074\n",
      "IWM US Equity      0.1390      0.015      9.313      0.000       0.110       0.169\n",
      "EFA US Equity      0.1170      0.024      4.864      0.000       0.069       0.165\n",
      "==============================================================================\n",
      "Omnibus:                       23.537   Durbin-Watson:                   2.465\n",
      "Prob(Omnibus):                  0.000   Jarque-Bera (JB):               76.483\n",
      "Skew:                          -0.476   Prob(JB):                     2.47e-17\n",
      "Kurtosis:                       6.273   Cond. No.                         637.\n",
      "==============================================================================\n",
      "\n",
      "Notes:\n",
      "[1] Standard Errors assume that the covariance matrix of the errors is correctly specified.\n"
     ]
    }
   ],
   "source": [
    "import statsmodels.api as sm\n",
    "\n",
    "# Assume 'HDG' is the first column, and the ETFs are the remaining columns\n",
    "y = data['HDG US Equity']  # HDG returns\n",
    "X = data[['QAI US Equity', 'SPY US Equity', 'EEM US Equity', 'UPRO US Equity', 'SPXU US Equity', 'IWM US Equity', 'EFA US Equity']]\n",
    "X = sm.add_constant(X)  # add intercept\n",
    "\n",
    "model = sm.OLS(y, X).fit()\n",
    "print(model.summary())\n"
   ]
  },
  {
   "cell_type": "code",
   "execution_count": 65,
   "id": "6e42e587",
   "metadata": {},
   "outputs": [
    {
     "name": "stdout",
     "output_type": "stream",
     "text": [
      "Hedge dollar position in each ETF for a $1 long position in HDG:\n",
      "QAI US Equity: +0.1515 dollars per $1 of HDG position\n",
      "SPY US Equity: +0.5154 dollars per $1 of HDG position\n",
      "EEM US Equity: +0.0448 dollars per $1 of HDG position\n",
      "UPRO US Equity: -0.1402 dollars per $1 of HDG position\n",
      "SPXU US Equity: +0.0327 dollars per $1 of HDG position\n",
      "IWM US Equity: +0.1390 dollars per $1 of HDG position\n",
      "EFA US Equity: +0.1170 dollars per $1 of HDG position\n",
      "\n",
      "For a $1,000,000 position in HDG, take the following dollar positions in the ETFs to hedge:\n",
      "QAI US Equity: -151537.45\n",
      "SPY US Equity: -515376.35\n",
      "EEM US Equity: -44816.29\n",
      "UPRO US Equity: +140222.47\n",
      "SPXU US Equity: -32654.03\n",
      "IWM US Equity: -139036.21\n",
      "EFA US Equity: -117000.29\n"
     ]
    }
   ],
   "source": [
    "# What dollar position would we be taking in each ETF to hedge the HDG position?\n",
    "# Let's assume we want to hedge $1 invested in HDG with a linear combination of the ETFs.\n",
    "# The hedge ratios are given by the OLS regression coefficients (excluding the intercept).\n",
    "\n",
    "hedge_coeffs = model.params.drop('const')  # ETF exposures for 1 unit of HDG\n",
    "\n",
    "# Calculate dollar position for a generic $1 exposure to HDG\n",
    "print(\"Hedge dollar position in each ETF for a $1 long position in HDG:\")\n",
    "for etf, weight in hedge_coeffs.items():\n",
    "    print(f\"{etf}: {weight:+.4f} dollars per $1 of HDG position\")\n",
    "\n",
    "# If you want to hedge an actual position, e.g., $10,000 long HDG:\n",
    "hdg_exposure = 1000000  # Change this to your actual HDG position\n",
    "hedge_positions = -hedge_coeffs * hdg_exposure\n",
    "\n",
    "print(f\"\\nFor a ${hdg_exposure:,.0f} position in HDG, take the following dollar positions in the ETFs to hedge:\")\n",
    "for etf, pos in hedge_positions.items():\n",
    "    print(f\"{etf}: {pos:+.2f}\")\n",
    "\n"
   ]
  },
  {
   "cell_type": "code",
   "execution_count": 72,
   "id": "c05f69f4",
   "metadata": {},
   "outputs": [
    {
     "name": "stdout",
     "output_type": "stream",
     "text": [
      "\n",
      "Gross notional of the hedge per $1 HDG position: 1.1417\n",
      "1141653.0029635436\n",
      "R-squared of the hedge regression: 0.9129\n",
      "\n",
      "Interpretation:\n",
      "- Gross notional: Tells us how much total ETF exposure (sum of long and short) is required to hedge $1 of HDG. Lower is more efficient.\n",
      "- R-squared: Tells us how much of HDG's return variance is explained by the ETF linear combination. Closer to 1 is a better hedge.\n"
     ]
    }
   ],
   "source": [
    "# Compute and print gross notional and R-squared of the hedge\n",
    "\n",
    "# Gross notional of the hedge: sum of absolute values of hedge weights per $1 HDG position\n",
    "gross_notional = model.params.abs().sum()\n",
    "print(f\"\\nGross notional of the hedge per $1 HDG position: {gross_notional:.4f}\")\n",
    "print(gross_notional*1000000)\n",
    "\n",
    "# R-squared of the hedge regression\n",
    "r_squared = model.rsquared\n",
    "print(f\"R-squared of the hedge regression: {r_squared:.4f}\")\n",
    "\n",
    "# Practical interpretation:\n",
    "print(\"\\nInterpretation:\")\n",
    "print(f\"- Gross notional: Tells us how much total ETF exposure (sum of long and short) is required to hedge $1 of HDG. Lower is more efficient.\")\n",
    "print(f\"- R-squared: Tells us how much of HDG's return variance is explained by the ETF linear combination. Closer to 1 is a better hedge.\")\n"
   ]
  },
  {
   "cell_type": "code",
   "execution_count": 73,
   "id": "fbbeb3bc",
   "metadata": {},
   "outputs": [
    {
     "data": {
      "text/plain": [
       "0.9128835765562017"
      ]
     },
     "execution_count": 73,
     "metadata": {},
     "output_type": "execute_result"
    }
   ],
   "source": [
    "model.rsquared"
   ]
  },
  {
   "cell_type": "code",
   "execution_count": 75,
   "id": "b68df7f8",
   "metadata": {},
   "outputs": [
    {
     "name": "stdout",
     "output_type": "stream",
     "text": [
      "Basket Betas (no intercept):\n",
      "QAI US Equity: +0.356368\n",
      "SPY US Equity: +0.162696\n",
      "EEM US Equity: +0.086523\n",
      "\n",
      "Last 3 basket portfolio values vs HDG:\n",
      "      date  HDG US Equity   Basket\n",
      "2024-07-31       0.024381 0.006721\n",
      "2024-08-31      -0.002413 0.007373\n",
      "2024-09-30       0.007448 0.013569\n"
     ]
    }
   ],
   "source": [
    "# We want to regress HDG on QAI, SPY, and EEM *without* an intercept, per the specified model:\n",
    "# HDG_t = β1*QAI_t + β2*SPY_t + β3*EEM_t + ε_t\n",
    "\n",
    "import statsmodels.api as sm\n",
    "\n",
    "# Prepare the data\n",
    "X_basket = data[['QAI US Equity', 'SPY US Equity', 'EEM US Equity']]\n",
    "y_hdg = data['HDG US Equity']\n",
    "\n",
    "# Run OLS regression with no intercept (so fit_intercept=False)\n",
    "basket_model = sm.OLS(y_hdg, X_basket).fit()\n",
    "\n",
    "# Report the beta values\n",
    "print(\"Basket Betas (no intercept):\")\n",
    "for etf, beta in basket_model.params.items():\n",
    "    print(f\"{etf}: {beta:+.6f}\")\n",
    "\n",
    "# Create the basket portfolio returns using the estimated betas\n",
    "basket_returns = (\n",
    "    basket_model.params['QAI US Equity'] * data['QAI US Equity'] +\n",
    "    basket_model.params['SPY US Equity'] * data['SPY US Equity'] +\n",
    "    basket_model.params['EEM US Equity'] * data['EEM US Equity']\n",
    ")\n",
    "\n",
    "# Report the final three (most recent) basket values, compared to HDG\n",
    "print(\"\\nLast 3 basket portfolio values vs HDG:\")\n",
    "result = data[['date', 'HDG US Equity']].copy()\n",
    "result['Basket'] = basket_returns\n",
    "print(result.tail(3).to_string(index=False))\n"
   ]
  },
  {
   "cell_type": "code",
   "execution_count": null,
   "id": "56e5c0fd",
   "metadata": {},
   "outputs": [
    {
     "name": "stdout",
     "output_type": "stream",
     "text": [
      "\n",
      "Annualized Performance of Residual Trading Strategy (Long/Short):\n",
      " Annualized Mean Return  Annualized Volatility  Sharpe Ratio\n",
      "               0.036796               0.062243      0.591156\n"
     ]
    }
   ],
   "source": [
    "# Strategy: if residual (epsilon_t) <= 0, go long 200% HDG and short 100% basket NEXT period;\n",
    "#           if residual > 0, long 200% basket and short 100% HDG NEXT period.\n",
    "#           We form the PnL series for this strategy and compute annualized mean/vol/sharpe.\n",
    "\n",
    "# 1. Compute residuals (epsilon_t)\n",
    "hdg_actual = data['HDG US Equity']\n",
    "hdg_predicted = basket_returns\n",
    "epsilon = hdg_actual - hdg_predicted\n",
    "\n",
    "# 2. Shift signal fwd by 1 to avoid lookahead bias (signal at t impacts weights at t+1)\n",
    "signal = epsilon.shift(1)\n",
    "\n",
    "# 3. Build portfolio returns each period depending on signal\n",
    "# Rule: if signal <=0: r = 2*HDG - 1*Basket; if signal>0: r = 2*Basket - 1*HDG\n",
    "portfolio_return = (\n",
    "    ((signal <= 0).astype(float)) * (2 * hdg_actual - 1 * basket_returns) +\n",
    "    ((signal > 0).astype(float)) * (2 * basket_returns - 1 * hdg_actual)\n",
    ")\n",
    "\n",
    "# 4. Drop 1st row (start at second row due to lag)\n",
    "portfolio_return = portfolio_return.iloc[1:]\n",
    "\n",
    "# 5. Compute annualized stats\n",
    "mean_return = portfolio_return.mean() * 12\n",
    "vol_return = portfolio_return.std() * (12**0.5)\n",
    "sharpe_ratio = mean_return / vol_return\n",
    "\n",
    "# 6. Display results\n",
    "import pandas as pd\n",
    "results = pd.DataFrame({\n",
    "    'Annualized Mean Return': [mean_return],\n",
    "    'Annualized Volatility': [vol_return],\n",
    "    'Sharpe Ratio': [sharpe_ratio]\n",
    "})\n",
    "print(\"\\nAnnualized Performance of Residual Trading Strategy (Long/Short):\")\n",
    "print(results.to_string(index=False))"
   ]
  },
  {
   "cell_type": "code",
   "execution_count": 78,
   "id": "f237b238",
   "metadata": {},
   "outputs": [
    {
     "name": "stdout",
     "output_type": "stream",
     "text": [
      "Replication regression results for QAI (using intercept):\n",
      "\n",
      "  Beta for HDG US Equity: 0.231451\n",
      "  Beta for SPY US Equity: 0.565072\n",
      "  Beta for EEM US Equity: 0.047792\n",
      "  Beta for EFA US Equity: 0.032642\n",
      "  Beta for EUO US Equity: -0.020484\n",
      "  Beta for IWM US Equity: -0.000157\n",
      "  Beta for SPXU US Equity: 0.051074\n",
      "  Beta for UPRO US Equity: -0.095099\n",
      "Sum of absolute betas: 1.043771\n",
      "\n",
      "Alpha: -0.000525 (annualized: -0.006296)\n",
      "Information Ratio: -0.317734\n",
      "R^2: 0.841988\n",
      "\n",
      "Correlation matrix between assets used to replicate QAI:\n",
      "                HDG US Equity  SPY US Equity  EEM US Equity  EFA US Equity  EUO US Equity  IWM US Equity  SPXU US Equity  UPRO US Equity\n",
      "HDG US Equity           1.000          0.874          0.801          0.895         -0.419          0.895          -0.815           0.873\n",
      "SPY US Equity           0.874          1.000          0.708          0.865         -0.382          0.868          -0.956           0.996\n",
      "EEM US Equity           0.801          0.708          1.000          0.834         -0.601          0.662          -0.657           0.711\n",
      "EFA US Equity           0.895          0.865          0.834          1.000         -0.575          0.784          -0.812           0.866\n",
      "EUO US Equity          -0.419         -0.382         -0.601         -0.575          1.000         -0.309           0.401          -0.370\n",
      "IWM US Equity           0.895          0.868          0.662          0.784         -0.309          1.000          -0.805           0.872\n",
      "SPXU US Equity         -0.815         -0.956         -0.657         -0.812          0.401         -0.805           1.000          -0.932\n",
      "UPRO US Equity          0.873          0.996          0.711          0.866         -0.370          0.872          -0.932           1.000\n"
     ]
    }
   ],
   "source": [
    "# Replication analysis of QAI using other ETFs\n",
    "\n",
    "import numpy as np\n",
    "\n",
    "# 1. List of columns (assets excluding QAI and date)\n",
    "exclude_cols = ['date', 'QAI US Equity']\n",
    "X_cols = [col for col in data.columns if col not in exclude_cols]\n",
    "y_col = 'QAI US Equity'\n",
    "\n",
    "X = data[X_cols].values\n",
    "y = data[y_col].values\n",
    "\n",
    "# Add intercept\n",
    "X_design = np.column_stack([np.ones(len(X)), X])\n",
    "\n",
    "# Regression fit\n",
    "coef, resid, rank, s = np.linalg.lstsq(X_design, y, rcond=None)\n",
    "alpha = coef[0]\n",
    "betas = coef[1:]\n",
    "\n",
    "# Predicted/fitted values\n",
    "y_hat = X_design @ coef\n",
    "\n",
    "# 2. Sum of absolute value of betas\n",
    "sum_abs_betas = np.abs(betas).sum()\n",
    "\n",
    "# 3. R^2\n",
    "ss_tot = ((y - y.mean()) ** 2).sum()\n",
    "ss_res = ((y - y_hat) ** 2).sum()\n",
    "r2 = 1 - ss_res / ss_tot\n",
    "\n",
    "# 4. Information Ratio = alpha / std of residuals (annualized using sqrt(12))\n",
    "residuals = y - y_hat\n",
    "residual_std = residuals.std() * np.sqrt(12)\n",
    "annualized_alpha = alpha * 12\n",
    "info_ratio = annualized_alpha / residual_std\n",
    "\n",
    "# 5. Correlation matrix among replicator assets\n",
    "corr_matrix = np.corrcoef(data[X_cols].values.T)\n",
    "corr_df = pd.DataFrame(corr_matrix, index=X_cols, columns=X_cols)\n",
    "\n",
    "# Print results\n",
    "print(\"Replication regression results for QAI (using intercept):\\n\")\n",
    "for col, b in zip(X_cols, betas):\n",
    "    print(f\"  Beta for {col}: {b:.6f}\")\n",
    "print(f\"Sum of absolute betas: {sum_abs_betas:.6f}\")\n",
    "print(f\"\\nAlpha: {alpha:.6f} (annualized: {annualized_alpha:.6f})\")\n",
    "print(f\"Information Ratio: {info_ratio:.6f}\")\n",
    "print(f\"R^2: {r2:.6f}\")\n",
    "\n",
    "print(\"\\nCorrelation matrix between assets used to replicate QAI:\")\n",
    "print(corr_df.round(3).to_string())\n"
   ]
  },
  {
   "cell_type": "markdown",
   "id": "23fc299f",
   "metadata": {},
   "source": [
    "## 4. VAR Analysis"
   ]
  },
  {
   "cell_type": "code",
   "execution_count": 92,
   "id": "460069ec",
   "metadata": {},
   "outputs": [],
   "source": [
    "data = pd.read_excel('midterm_1_data.xlsx', sheet_name=2)\n",
    "data = data[['date', 'JPY']].set_index('date')"
   ]
  },
  {
   "cell_type": "code",
   "execution_count": 93,
   "id": "3ac10072",
   "metadata": {},
   "outputs": [
    {
     "name": "stdout",
     "output_type": "stream",
     "text": [
      "-0.01717837630807654\n"
     ]
    }
   ],
   "source": [
    "# Calculate the 1% (one-sided left tail) empirical VaR for JPY returns at each point in time (using data up to that month)\n",
    "# and report the VaR for the final date of the sample.\n",
    "\n",
    "# Drop missing values if any\n",
    "returns = data['JPY'].dropna()\n",
    "\n",
    "# Rolling quantile: for each index, get 1st percentile of ALL returns up to & including that time\n",
    "empirical_VaR = returns.expanding().quantile(0.01)\n",
    "\n",
    "# Report the VaR for final date in the sample\n",
    "print(empirical_VaR.iloc[-1])"
   ]
  },
  {
   "cell_type": "code",
   "execution_count": 96,
   "id": "35c52ec5",
   "metadata": {},
   "outputs": [
    {
     "name": "stdout",
     "output_type": "stream",
     "text": [
      "Normal VaR (1%) for the final 3 days of the sample:\n",
      "date\n",
      "2024-08-01   -0.013359\n",
      "2024-08-02   -0.013631\n",
      "2024-08-05   -0.013820\n",
      "Name: JPY, dtype: float64\n"
     ]
    }
   ],
   "source": [
    "# Calculate rolling volatility (sigma_t) with window=233, mean assumed 0, i.e., sqrt(mean of squared returns)\n",
    "window = 233\n",
    "squared_returns = returns ** 2\n",
    "# rolling(window, min_periods=window) means we only compute for full windows\n",
    "rolling_var = squared_returns.rolling(window=window, min_periods=window).mean()\n",
    "rolling_vol = rolling_var ** 0.5\n",
    "\n",
    "# Compute Normal VaR (1%) = -2.33 * sigma_t\n",
    "normal_VaR = -2.33 * rolling_vol\n",
    "\n",
    "# Get VaR for the final 3 days of the sample\n",
    "final_VaRs = normal_VaR.iloc[-3:]\n",
    "\n",
    "print(\"Normal VaR (1%) for the final 3 days of the sample:\")\n",
    "print(final_VaRs)\n"
   ]
  },
  {
   "cell_type": "code",
   "execution_count": null,
   "id": "b2141a2b",
   "metadata": {},
   "outputs": [
    {
     "name": "stdout",
     "output_type": "stream",
     "text": [
      "EWMA Normal VaR (1%) for the final 3 days of the sample:\n",
      "date\n",
      "2024-08-01   -0.017430\n",
      "2024-08-02   -0.020140\n",
      "2024-08-05   -0.021567\n",
      "dtype: float64\n"
     ]
    }
   ],
   "source": [
    "# Calculate EWMA volatility with lambda = 0.94 and Normal VaR (1%) for JPY\n",
    "\n",
    "lambda_ = 0.94\n",
    "rets = returns.values  # convert to numpy for speed\n",
    "ewma_vol = []\n",
    "vol_squared = rets[0]**2  # start at first obs squared for initial variance\n",
    "ewma_vol.append(vol_squared**0.5)\n",
    "\n",
    "for r in rets[1:]:\n",
    "    vol_squared = lambda_ * vol_squared + (1 - lambda_) * r**2\n",
    "    ewma_vol.append(vol_squared**0.5)\n",
    "\n",
    "ewma_vol = pd.Series(ewma_vol, index=returns.index)\n",
    "\n",
    "# Normal VaR (1%) = -2.33 * sigma_t, where sigma_t is ewma_vol (no mean assumed)\n",
    "ewma_normal_VaR = -2.33 * ewma_vol\n",
    "\n",
    "# Get VaR for the final 3 days of the sample\n",
    "print(\"EWMA Normal VaR (1%) for the final 3 days of the sample:\")\n",
    "print(ewma_normal_VaR.iloc[-3:])\n"
   ]
  },
  {
   "cell_type": "code",
   "execution_count": 104,
   "id": "cc147679",
   "metadata": {},
   "outputs": [
    {
     "data": {
      "image/png": "[encoded data removed]",
      "text/plain": [
       "<Figure size 1200x600 with 1 Axes>"
      ]
     },
     "metadata": {},
     "output_type": "display_data"
    }
   ],
   "source": [
    "# Plot the three time series of VaR estimates: historical (empirical_VaR), rolling volatility normal_VaR, and EWMA normal VaR\n",
    "\n",
    "import matplotlib.pyplot as plt\n",
    "\n",
    "plt.figure(figsize=(12, 6))\n",
    "plt.plot(empirical_VaR.index, empirical_VaR, label=\"Historical VaR (1%)\")\n",
    "plt.plot(normal_VaR.index, normal_VaR, label=\"Rolling Normal VaR (1%)\")\n",
    "plt.plot(ewma_normal_VaR.index, ewma_normal_VaR, label=\"EWMA Normal VaR (1%)\")\n",
    "plt.xlabel(\"Date\")\n",
    "plt.ylabel(\"VaR (1%)\")\n",
    "plt.title(\"VaR Estimates Comparison: Historical, Rolling Normal, EWMA Normal\")\n",
    "plt.legend()\n",
    "plt.tight_layout()\n",
    "plt.show()\n"
   ]
  },
  {
   "cell_type": "code",
   "execution_count": 116,
   "id": "f79d812c",
   "metadata": {},
   "outputs": [
    {
     "name": "stdout",
     "output_type": "stream",
     "text": [
      "\n",
      "VaR 1% Hit Ratios (proportion of days when return < previous day's VaR):\n",
      "\n",
      "                         Hit Ratio\n",
      "Model                             \n",
      "Historical VaR (1%)       0.020542\n",
      "Rolling Normal VaR (1%)   0.025210\n",
      "EWMA Normal VaR (1%)      0.022409\n"
     ]
    }
   ],
   "source": [
    "# Shift VaR estimates by 1 day to avoid look-ahead bias: today's return is compared to *yesterday's* VaR estimate.\n",
    "# - empirical_VaR: Series of historical VaR (indexed by date)\n",
    "# - normal_VaR: Series of rolling volatility VaR (indexed by date)\n",
    "# - ewma_normal_VaR: Series of EWMA VaR (indexed by date)\n",
    "# - returns: Series of JPY returns (indexed by date, aligned with VaR series)\n",
    "\n",
    "# Shift all VaR series forward by 1 so today's VaR is from information available up to yesterday\n",
    "combined_df = pd.DataFrame({\n",
    "    'Return': returns,\n",
    "    'Historical_VaR': empirical_VaR.shift(2),\n",
    "    'Rolling_Normal_VaR': normal_VaR.shift(2),\n",
    "    'EWMA_Normal_VaR': ewma_normal_VaR.shift(2)\n",
    "}).dropna()\n",
    "\n",
    "# For VaR at 1%, a \"hit\" (VaR violation) occurs when actual return < VaR\n",
    "combined_df['Hit_Historical'] = (combined_df['Return'] < combined_df['Historical_VaR']).astype(int)\n",
    "combined_df['Hit_Rolling_Normal'] = (combined_df['Return'] < combined_df['Rolling_Normal_VaR']).astype(int)\n",
    "combined_df['Hit_EWMA_Normal'] = (combined_df['Return'] < combined_df['EWMA_Normal_VaR']).astype(int)\n",
    "\n",
    "# Calculate hit ratio for each model (number of hits / total observations)\n",
    "hit_ratio_historical = combined_df['Hit_Historical'].mean()\n",
    "hit_ratio_rolling = combined_df['Hit_Rolling_Normal'].mean()\n",
    "hit_ratio_ewma = combined_df['Hit_EWMA_Normal'].mean()\n",
    "\n",
    "# Display as table for comparison\n",
    "hit_ratio_table = pd.DataFrame({\n",
    "    \"Model\": [\"Historical VaR (1%)\", \"Rolling Normal VaR (1%)\", \"EWMA Normal VaR (1%)\"],\n",
    "    \"Hit Ratio\": [hit_ratio_historical, hit_ratio_rolling, hit_ratio_ewma]\n",
    "}).set_index('Model')\n",
    "\n",
    "print(\"\\nVaR 1% Hit Ratios (proportion of days when return < previous day's VaR):\\n\")\n",
    "print(hit_ratio_table)\n"
   ]
  },
  {
   "cell_type": "code",
   "execution_count": 118,
   "id": "9ea8bce8",
   "metadata": {},
   "outputs": [
    {
     "data": {
      "text/plain": [
       "Hit_Historical        22\n",
       "Hit_Rolling_Normal    27\n",
       "Hit_EWMA_Normal       24\n",
       "dtype: int64"
      ]
     },
     "execution_count": 118,
     "metadata": {},
     "output_type": "execute_result"
    }
   ],
   "source": [
    "combined_df[['Hit_Historical', 'Hit_Rolling_Normal', 'Hit_EWMA_Normal']].sum()"
   ]
  },
  {
   "cell_type": "code",
   "execution_count": null,
   "id": "38d8e828",
   "metadata": {},
   "outputs": [],
   "source": []
  }
 ],
 "metadata": {
  "kernelspec": {
   "display_name": "base",
   "language": "python",
   "name": "python3"
  },
  "language_info": {
   "codemirror_mode": {
    "name": "ipython",
    "version": 3
   },
   "file_extension": ".py",
   "mimetype": "text/x-python",
   "name": "python",
   "nbconvert_exporter": "python",
   "pygments_lexer": "ipython3",
   "version": "3.12.2"
  }
 },
 "nbformat": 4,
 "nbformat_minor": 5
}
